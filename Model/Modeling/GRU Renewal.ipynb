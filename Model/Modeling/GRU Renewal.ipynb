{
 "cells": [
  {
   "cell_type": "code",
   "execution_count": 1,
   "id": "10c4b7fd",
   "metadata": {},
   "outputs": [],
   "source": [
    "import random\n",
    "import os\n",
    "import pandas as pd\n",
    "import numpy as np\n",
    "from tqdm.auto import tqdm\n",
    "from sklearn.preprocessing import LabelEncoder\n",
    "\n",
    "import torch\n",
    "import torch.nn as nn\n",
    "import torch.optim as optim\n",
    "import torch.nn.functional as F\n",
    "from torch.utils.data import Dataset, DataLoader\n",
    "from torch.utils.data import DataLoader, TensorDataset"
   ]
  },
  {
   "cell_type": "code",
   "execution_count": 2,
   "id": "32161afe",
   "metadata": {},
   "outputs": [],
   "source": [
    "device = torch.device('mps') if torch.cuda.is_available() else torch.device('cpu')"
   ]
  },
  {
   "cell_type": "code",
   "execution_count": 3,
   "id": "89666ff4",
   "metadata": {},
   "outputs": [],
   "source": [
    "CFG = {\n",
    "    'TRAIN_WINDOW_SIZE': 90, # 90일치로 학습\n",
    "    'PREDICT_SIZE':21, # 21일치 예측\n",
    "    'EPOCHS':30,\n",
    "    'LEARNING_RATE':0.0001,\n",
    "    'BATCH_SIZE':512,\n",
    "    'SEED':41\n",
    "}"
   ]
  },
  {
   "cell_type": "code",
   "execution_count": 4,
   "id": "c5a6d8ce",
   "metadata": {},
   "outputs": [],
   "source": [
    "def seed_everything(seed):\n",
    "    random.seed(seed)\n",
    "    os.environ['PYTHONHASHSEED'] = str(seed)\n",
    "    np.random.seed(seed)\n",
    "    torch.manual_seed(seed)\n",
    "    torch.cuda.manual_seed(seed)\n",
    "    torch.backends.cudnn.deterministic = True\n",
    "    torch.backends.cudnn.benchmark = True\n",
    "\n",
    "seed_everything(CFG['SEED']) # Seed 고정"
   ]
  },
  {
   "cell_type": "code",
   "execution_count": 5,
   "id": "40825af3",
   "metadata": {},
   "outputs": [],
   "source": [
    "train_data = pd.read_csv('/Users/leeshinhaeng/Desktop/open/train.csv').drop(columns=['ID', '제품'])"
   ]
  },
  {
   "cell_type": "code",
   "execution_count": 6,
   "id": "bdc67bf0",
   "metadata": {},
   "outputs": [],
   "source": [
    "# Scaling 코드 (이희원님 코드 가져옴)\n",
    "\n",
    "# 숫자형 변수들의 min-max scaling을 수행하는 코드입니다.\n",
    "numeric_cols = train_data.columns[4:]\n",
    "# 칵 column의 min 및 max 계산\n",
    "min_values = train_data[numeric_cols].min(axis=1)\n",
    "max_values = train_data[numeric_cols].max(axis=1)\n",
    "# 각 행의 범위(max-min)를 계산하고, 범위가 0인 경우 1로 대체\n",
    "ranges = max_values - min_values\n",
    "ranges[ranges == 0] = 1\n",
    "# min-max scaling 수행\n",
    "train_data[numeric_cols] = (train_data[numeric_cols].subtract(min_values, axis=0)).div(ranges, axis=0)\n",
    "# max와 min 값을 dictionary 형태로 저장\n",
    "scale_min_dict = min_values.to_dict()\n",
    "scale_max_dict = max_values.to_dict()"
   ]
  },
  {
   "cell_type": "code",
   "execution_count": 7,
   "id": "1ebbd5b3",
   "metadata": {},
   "outputs": [],
   "source": [
    "# Label Encoding\n",
    "label_encoder = LabelEncoder()\n",
    "categorical_columns = ['대분류', '중분류', '소분류', '브랜드']\n",
    "\n",
    "# 범주형 칼럼별로 레이블 인코딩\n",
    "for col in categorical_columns:\n",
    "    label_encoder.fit(train_data[col])\n",
    "    train_data[col] = label_encoder.transform(train_data[col])"
   ]
  },
  {
   "cell_type": "code",
   "execution_count": 8,
   "id": "2a4302d8",
   "metadata": {},
   "outputs": [],
   "source": [
    "def make_train_data(data, train_size=CFG['TRAIN_WINDOW_SIZE'], predict_size=CFG['PREDICT_SIZE']):\n",
    "    '''\n",
    "    학습 기간 블럭, 예측 기간 블럭의 세트로 데이터를 생성\n",
    "    data : 일별 판매량\n",
    "    train_size : 학습에 활용할 기간\n",
    "    predict_size : 추론할 기간\n",
    "    '''\n",
    "    # 데이터 행 수 저장\n",
    "    num_rows = len(data)\n",
    "    # 전체 시간 간격 (학습 기간 + 예측 기간)\n",
    "    window_size = train_size + predict_size\n",
    "    \n",
    "    # 빈 배열로 초기화\n",
    "    input_data = np.empty((num_rows * (len(data.columns) - window_size + 1), train_size, len(data.iloc[0, :4]) + 1))\n",
    "    target_data = np.empty((num_rows * (len(data.columns) - window_size + 1), predict_size))\n",
    "    \n",
    "    # 학습 데이터, 레이블 데이터 학습\n",
    "    for i in tqdm(range(num_rows)):\n",
    "        # 정보를 나타내는 4개 열을 encode_info로\n",
    "        encode_info = np.array(data.iloc[i, :4])\n",
    "        sales_data = np.array(data.iloc[i, 4:])\n",
    "        # 학습 기간 블럭 : temp_data에 저장, input_data에 추가\n",
    "        # 예측 기간 블럭 : windorw[train_size:]로 추출, target_data에 추가\n",
    "        for j in range(len(sales_data) - window_size + 1):\n",
    "            window = sales_data[j : j + window_size]\n",
    "            temp_data = np.column_stack((np.tile(encode_info, (train_size, 1)), window[:train_size]))\n",
    "            input_data[i * (len(data.columns) - window_size + 1) + j] = temp_data\n",
    "            target_data[i * (len(data.columns) - window_size + 1) + j] = window[train_size:]\n",
    "    \n",
    "    return input_data, target_data"
   ]
  },
  {
   "cell_type": "code",
   "execution_count": 9,
   "id": "8650559a",
   "metadata": {},
   "outputs": [],
   "source": [
    "data=train_data\n",
    "train_size=CFG['TRAIN_WINDOW_SIZE'] # 120\n",
    "predict_size=CFG['PREDICT_SIZE'] # 21\n",
    "\n",
    "num_rows = len(data) # 15890\n",
    "window_size = train_size + predict_size # 120+21"
   ]
  },
  {
   "cell_type": "code",
   "execution_count": 10,
   "id": "f073dcc1",
   "metadata": {},
   "outputs": [],
   "source": [
    "def make_predict_data(data, train_size=CFG['TRAIN_WINDOW_SIZE']):\n",
    "    '''\n",
    "    평가 데이터(Test Dataset)를 추론하기 위한 Input 데이터를 생성\n",
    "    data : 일별 판매량\n",
    "    train_size : 추론을 위해 필요한 일별 판매량 기간 (= 학습에 활용할 기간)\n",
    "    '''\n",
    "    num_rows = len(data)\n",
    "    \n",
    "    # 초기 빈 배열로 초기화\n",
    "    input_data = np.empty((num_rows, train_size, len(data.iloc[0, :4]) + 1))\n",
    "    \n",
    "    for i in tqdm(range(num_rows)):\n",
    "        # 정보를 나타내는 4개 열을 encode_info로\n",
    "        encode_info = np.array(data.iloc[i, :4])\n",
    "        sales_data = np.array(data.iloc[i, -train_size:])\n",
    "        \n",
    "        window = sales_data[-train_size : ]\n",
    "        temp_data = np.column_stack((np.tile(encode_info, (train_size, 1)), window[:train_size]))\n",
    "        input_data[i] = temp_data\n",
    "    \n",
    "    return input_data"
   ]
  },
  {
   "cell_type": "code",
   "execution_count": 11,
   "id": "543c7186",
   "metadata": {},
   "outputs": [
    {
     "data": {
      "application/vnd.jupyter.widget-view+json": {
       "model_id": "bb7b60ab71b44062993e3c9c431b5888",
       "version_major": 2,
       "version_minor": 0
      },
      "text/plain": [
       "  0%|          | 0/15890 [00:00<?, ?it/s]"
      ]
     },
     "metadata": {},
     "output_type": "display_data"
    },
    {
     "data": {
      "application/vnd.jupyter.widget-view+json": {
       "model_id": "63e684ca3c2941489a0b35ce584801a3",
       "version_major": 2,
       "version_minor": 0
      },
      "text/plain": [
       "  0%|          | 0/15890 [00:00<?, ?it/s]"
      ]
     },
     "metadata": {},
     "output_type": "display_data"
    }
   ],
   "source": [
    "train_input, train_target = make_train_data(train_data)\n",
    "test_input = make_predict_data(train_data)"
   ]
  },
  {
   "cell_type": "code",
   "execution_count": 12,
   "id": "b21abc0e",
   "metadata": {},
   "outputs": [],
   "source": [
    "# Train / Validation Split (60,20,20)\n",
    "data_len = len(train_input)\n",
    "val_input = train_input[-int(data_len*0.2):]\n",
    "val_target = train_target[-int(data_len*0.2):]\n",
    "train_input = train_input[:-int(data_len*0.2)]\n",
    "train_target = train_target[:-int(data_len*0.2)]"
   ]
  },
  {
   "cell_type": "code",
   "execution_count": 13,
   "id": "b1145b5b",
   "metadata": {},
   "outputs": [
    {
     "data": {
      "text/plain": [
       "((4487336, 90, 5),\n",
       " (4487336, 21),\n",
       " (1121834, 90, 5),\n",
       " (1121834, 21),\n",
       " (15890, 90, 5))"
      ]
     },
     "execution_count": 13,
     "metadata": {},
     "output_type": "execute_result"
    }
   ],
   "source": [
    "train_input.shape, train_target.shape, val_input.shape, val_target.shape, test_input.shape"
   ]
  },
  {
   "cell_type": "code",
   "execution_count": 14,
   "id": "7957b5c5",
   "metadata": {},
   "outputs": [],
   "source": [
    "# 주어진 데이터셋을 X와 Y로 나누어 입력과 타겟을 각각 저장\n",
    "# 학습과 평가를 위한 데이터셋을 편리하게 관리\n",
    "class CustomDataset(Dataset):\n",
    "    def __init__(self, X, Y):\n",
    "        self.X = X\n",
    "        self.Y = Y\n",
    "        \n",
    "    def __getitem__(self, index):\n",
    "        if self.Y is not None:\n",
    "            return torch.Tensor(self.X[index]), torch.Tensor(self.Y[index])\n",
    "        return torch.Tensor(self.X[index])\n",
    "    \n",
    "    def __len__(self):\n",
    "        return len(self.X)"
   ]
  },
  {
   "cell_type": "code",
   "execution_count": 15,
   "id": "922e13a8",
   "metadata": {},
   "outputs": [],
   "source": [
    "train_dataset = CustomDataset(train_input, train_target)\n",
    "train_loader = DataLoader(train_dataset, batch_size = CFG['BATCH_SIZE'], shuffle=True, num_workers=0)\n",
    "\n",
    "val_dataset = CustomDataset(val_input, val_target)\n",
    "val_loader = DataLoader(val_dataset, batch_size = CFG['BATCH_SIZE'], shuffle=False, num_workers=0)"
   ]
  },
  {
   "cell_type": "code",
   "execution_count": 16,
   "id": "c7476dee",
   "metadata": {},
   "outputs": [
    {
     "data": {
      "text/plain": [
       "(4487336, 90, 5)"
      ]
     },
     "execution_count": 16,
     "metadata": {},
     "output_type": "execute_result"
    }
   ],
   "source": [
    "train_input.shape"
   ]
  },
  {
   "cell_type": "code",
   "execution_count": 35,
   "id": "61785a40",
   "metadata": {},
   "outputs": [],
   "source": [
    "class GRURenewal(nn.Module):\n",
    "    def __init__(self, output_size, input_size, hidden_size, num_layers, seq_length, dropout):\n",
    "        super(GRURenewal, self).__init__()\n",
    "        self.output_size = output_size\n",
    "        self.num_layers = num_layers \n",
    "        self.input_size = input_size \n",
    "        self.hidden_size = hidden_size \n",
    "        self.seq_length = seq_length\n",
    "        self.dropout = dropout\n",
    "        # GRU Layer\n",
    "        self.gru1 = nn.GRU(input_size = input_size, hidden_size = hidden_size,\n",
    "                            num_layers = num_layers, batch_first = True)\n",
    "        self.gru2 = nn.GRU(input_size = hidden_size, hidden_size = hidden_size,\n",
    "                            num_layers = num_layers, batch_first = True)\n",
    "        self.gru3 = nn.GRU(input_size = hidden_size, hidden_size = 256,\n",
    "                          num_layers = num_layers, batch_first = True)\n",
    "        self.gru4 = nn.GRU(input_size = 256, hidden_size = 256,\n",
    "                          num_layers = num_layers, batch_first = True)\n",
    "        # Fully Connected Layer\n",
    "        self.first_fc = nn.Linear(256, hidden_size)\n",
    "        self.fc_1 = nn.Linear(hidden_size, 64)\n",
    "        self.dropout_layer = nn.Dropout(dropout)\n",
    "        self.batch_norm128 = nn.BatchNorm1d(128)\n",
    "        self.batch_norm64 = nn.BatchNorm1d(64)\n",
    "        self.fc = nn.Linear(64, output_size)  # hidden_size를 64로 변경\n",
    "        self.relu = nn.ReLU()\n",
    "    \n",
    "    def forward(self, x):\n",
    "        h_01 = torch.zeros(self.num_layers, x.size(0), self.hidden_size).to(x.device)\n",
    "        # (512, 90, 128), (2, 512, 128)\n",
    "        output1, (hn1) = self.gru1(x, h_01)\n",
    "        # (512, 90, 128), (2, 512, 128)\n",
    "        output2, (hn2) = self.gru2(output1, hn1)\n",
    "        # (512, 90, 128), (2, 512, 256)\n",
    "        output3, (hn3) = self.gru3(output2, torch.zeros(self.num_layers, x.size(0), 256).to(x.device))\n",
    "        # (512, 90, 256), (2, 512, 256)\n",
    "        output4, (hn4) = self.gru4(output3, hn3)\n",
    "        \n",
    "        # (512, 256)\n",
    "        hn2_last_step = hn4[-1, : ,:]\n",
    "        out = self.relu(hn2_last_step)\n",
    "        # (512, 128)\n",
    "        out = self.first_fc(out)\n",
    "        out = self.dropout_layer(out)\n",
    "        out = self.batch_norm128(out)\n",
    "        out = self.relu(out)\n",
    "        # (512, 64)\n",
    "        out = self.fc_1(out)\n",
    "        out = self.dropout_layer(out)\n",
    "        out = self.batch_norm64(out)\n",
    "        out = self.relu(out) \n",
    "        # (512, 21)\n",
    "        out = self.fc(out)\n",
    "        out = out.squeeze(1) # 불필요 차원 제거\n",
    "        out = self.relu(out)\n",
    "        return out"
   ]
  },
  {
   "cell_type": "code",
   "execution_count": 36,
   "id": "adff0140",
   "metadata": {},
   "outputs": [
    {
     "data": {
      "text/plain": [
       "((4487336, 90, 5), (4487336, 21))"
      ]
     },
     "execution_count": 36,
     "metadata": {},
     "output_type": "execute_result"
    }
   ],
   "source": [
    "train_input.shape, train_target.shape"
   ]
  },
  {
   "cell_type": "code",
   "execution_count": 37,
   "id": "0e957333",
   "metadata": {},
   "outputs": [],
   "source": [
    "input_size = train_input.shape[2] # 5\n",
    "hidden_size = 128\n",
    "output_size = 21\n",
    "num_layers = 2\n",
    "seq_length = train_input.shape[1]\n",
    "epochs = CFG['EPOCHS'] # 30\n",
    "learning_rate = CFG['LEARNING_RATE'] # 0.0001\n",
    "dropout = 0.1"
   ]
  },
  {
   "cell_type": "code",
   "execution_count": 38,
   "id": "08ddf593",
   "metadata": {},
   "outputs": [],
   "source": [
    "model = GRURenewal(output_size, input_size, hidden_size, num_layers, seq_length, dropout) \n",
    "\n",
    "# Loss function and optimizer\n",
    "criterion = nn.MSELoss()\n",
    "optimizer = optim.Adam(model.parameters(), lr=learning_rate)"
   ]
  },
  {
   "cell_type": "code",
   "execution_count": 39,
   "id": "b29d1836",
   "metadata": {},
   "outputs": [
    {
     "data": {
      "text/plain": [
       "GRURenewal(\n",
       "  (gru1): GRU(5, 128, num_layers=2, batch_first=True)\n",
       "  (gru2): GRU(128, 128, num_layers=2, batch_first=True)\n",
       "  (gru3): GRU(128, 256, num_layers=2, batch_first=True)\n",
       "  (gru4): GRU(256, 256, num_layers=2, batch_first=True)\n",
       "  (first_fc): Linear(in_features=256, out_features=128, bias=True)\n",
       "  (fc_1): Linear(in_features=128, out_features=64, bias=True)\n",
       "  (dropout_layer): Dropout(p=0.1, inplace=False)\n",
       "  (batch_norm128): BatchNorm1d(128, eps=1e-05, momentum=0.1, affine=True, track_running_stats=True)\n",
       "  (batch_norm64): BatchNorm1d(64, eps=1e-05, momentum=0.1, affine=True, track_running_stats=True)\n",
       "  (fc): Linear(in_features=64, out_features=21, bias=True)\n",
       "  (relu): ReLU()\n",
       ")"
      ]
     },
     "execution_count": 39,
     "metadata": {},
     "output_type": "execute_result"
    }
   ],
   "source": [
    "model"
   ]
  },
  {
   "cell_type": "code",
   "execution_count": 40,
   "id": "8e09ac14",
   "metadata": {},
   "outputs": [
    {
     "name": "stderr",
     "output_type": "stream",
     "text": [
      "  0%|                                                    | 0/30 [00:00<?, ?it/s]\n",
      "  0%|                                                  | 0/8765 [00:00<?, ?it/s]\u001b[A"
     ]
    },
    {
     "name": "stdout",
     "output_type": "stream",
     "text": [
      "output1 complete :  torch.Size([512, 90, 128]) torch.Size([2, 512, 128])\n",
      "output2 complete :  torch.Size([512, 90, 128]) torch.Size([2, 512, 128])\n",
      "output3 complete :  torch.Size([512, 90, 256]) torch.Size([2, 512, 256])\n",
      "output4 complete :  torch.Size([512, 90, 256]) torch.Size([2, 512, 256])\n",
      "out1 complete :  torch.Size([512, 256])\n",
      "out2 complete :  torch.Size([512, 128])\n",
      "out3 complete :  torch.Size([512, 64])\n",
      "out4 complete :  torch.Size([512, 21])\n",
      "torch.Size([512, 21]) torch.Size([512, 21])\n",
      "tensor(0.1096, grad_fn=<MseLossBackward>)\n"
     ]
    },
    {
     "name": "stderr",
     "output_type": "stream",
     "text": [
      "  0%|                                                  | 0/8765 [00:15<?, ?it/s]\n",
      "  0%|                                                    | 0/30 [00:15<?, ?it/s]\n"
     ]
    },
    {
     "ename": "KeyboardInterrupt",
     "evalue": "",
     "output_type": "error",
     "traceback": [
      "\u001b[0;31m---------------------------------------------------------------------------\u001b[0m",
      "\u001b[0;31mKeyboardInterrupt\u001b[0m                         Traceback (most recent call last)",
      "\u001b[0;32m/var/folders/gx/q7vn3yv17rvb0vy6chbbbztw0000gn/T/ipykernel_1233/132496767.py\u001b[0m in \u001b[0;36m<module>\u001b[0;34m\u001b[0m\n\u001b[1;32m     17\u001b[0m         \u001b[0mloss\u001b[0m \u001b[0;34m=\u001b[0m \u001b[0mcriterion\u001b[0m\u001b[0;34m(\u001b[0m\u001b[0moutputs\u001b[0m\u001b[0;34m,\u001b[0m \u001b[0mtargets\u001b[0m\u001b[0;34m)\u001b[0m\u001b[0;34m\u001b[0m\u001b[0;34m\u001b[0m\u001b[0m\n\u001b[1;32m     18\u001b[0m         \u001b[0mprint\u001b[0m\u001b[0;34m(\u001b[0m\u001b[0mloss\u001b[0m\u001b[0;34m)\u001b[0m\u001b[0;34m\u001b[0m\u001b[0;34m\u001b[0m\u001b[0m\n\u001b[0;32m---> 19\u001b[0;31m         \u001b[0mloss\u001b[0m\u001b[0;34m.\u001b[0m\u001b[0mbackward\u001b[0m\u001b[0;34m(\u001b[0m\u001b[0;34m)\u001b[0m\u001b[0;34m\u001b[0m\u001b[0;34m\u001b[0m\u001b[0m\n\u001b[0m\u001b[1;32m     20\u001b[0m         \u001b[0moptimizer\u001b[0m\u001b[0;34m.\u001b[0m\u001b[0mstep\u001b[0m\u001b[0;34m(\u001b[0m\u001b[0;34m)\u001b[0m\u001b[0;34m\u001b[0m\u001b[0;34m\u001b[0m\u001b[0m\n\u001b[1;32m     21\u001b[0m         \u001b[0mtrain_loss\u001b[0m \u001b[0;34m+=\u001b[0m \u001b[0mloss\u001b[0m\u001b[0;34m.\u001b[0m\u001b[0mitem\u001b[0m\u001b[0;34m(\u001b[0m\u001b[0;34m)\u001b[0m\u001b[0;34m\u001b[0m\u001b[0;34m\u001b[0m\u001b[0m\n",
      "\u001b[0;32m~/opt/anaconda3/lib/python3.8/site-packages/torch/tensor.py\u001b[0m in \u001b[0;36mbackward\u001b[0;34m(self, gradient, retain_graph, create_graph, inputs)\u001b[0m\n\u001b[1;32m    243\u001b[0m                 \u001b[0mcreate_graph\u001b[0m\u001b[0;34m=\u001b[0m\u001b[0mcreate_graph\u001b[0m\u001b[0;34m,\u001b[0m\u001b[0;34m\u001b[0m\u001b[0;34m\u001b[0m\u001b[0m\n\u001b[1;32m    244\u001b[0m                 inputs=inputs)\n\u001b[0;32m--> 245\u001b[0;31m         \u001b[0mtorch\u001b[0m\u001b[0;34m.\u001b[0m\u001b[0mautograd\u001b[0m\u001b[0;34m.\u001b[0m\u001b[0mbackward\u001b[0m\u001b[0;34m(\u001b[0m\u001b[0mself\u001b[0m\u001b[0;34m,\u001b[0m \u001b[0mgradient\u001b[0m\u001b[0;34m,\u001b[0m \u001b[0mretain_graph\u001b[0m\u001b[0;34m,\u001b[0m \u001b[0mcreate_graph\u001b[0m\u001b[0;34m,\u001b[0m \u001b[0minputs\u001b[0m\u001b[0;34m=\u001b[0m\u001b[0minputs\u001b[0m\u001b[0;34m)\u001b[0m\u001b[0;34m\u001b[0m\u001b[0;34m\u001b[0m\u001b[0m\n\u001b[0m\u001b[1;32m    246\u001b[0m \u001b[0;34m\u001b[0m\u001b[0m\n\u001b[1;32m    247\u001b[0m     \u001b[0;32mdef\u001b[0m \u001b[0mregister_hook\u001b[0m\u001b[0;34m(\u001b[0m\u001b[0mself\u001b[0m\u001b[0;34m,\u001b[0m \u001b[0mhook\u001b[0m\u001b[0;34m)\u001b[0m\u001b[0;34m:\u001b[0m\u001b[0;34m\u001b[0m\u001b[0;34m\u001b[0m\u001b[0m\n",
      "\u001b[0;32m~/opt/anaconda3/lib/python3.8/site-packages/torch/autograd/__init__.py\u001b[0m in \u001b[0;36mbackward\u001b[0;34m(tensors, grad_tensors, retain_graph, create_graph, grad_variables, inputs)\u001b[0m\n\u001b[1;32m    143\u001b[0m         \u001b[0mretain_graph\u001b[0m \u001b[0;34m=\u001b[0m \u001b[0mcreate_graph\u001b[0m\u001b[0;34m\u001b[0m\u001b[0;34m\u001b[0m\u001b[0m\n\u001b[1;32m    144\u001b[0m \u001b[0;34m\u001b[0m\u001b[0m\n\u001b[0;32m--> 145\u001b[0;31m     Variable._execution_engine.run_backward(\n\u001b[0m\u001b[1;32m    146\u001b[0m         \u001b[0mtensors\u001b[0m\u001b[0;34m,\u001b[0m \u001b[0mgrad_tensors_\u001b[0m\u001b[0;34m,\u001b[0m \u001b[0mretain_graph\u001b[0m\u001b[0;34m,\u001b[0m \u001b[0mcreate_graph\u001b[0m\u001b[0;34m,\u001b[0m \u001b[0minputs\u001b[0m\u001b[0;34m,\u001b[0m\u001b[0;34m\u001b[0m\u001b[0;34m\u001b[0m\u001b[0m\n\u001b[1;32m    147\u001b[0m         allow_unreachable=True, accumulate_grad=True)  # allow_unreachable flag\n",
      "\u001b[0;31mKeyboardInterrupt\u001b[0m: "
     ]
    }
   ],
   "source": [
    "# 첫 loss : 0.0503\n",
    "\n",
    "from tqdm import tqdm\n",
    "# Training loop with early stopping\n",
    "best_val_loss = float('inf')\n",
    "patience = 5  # Number of epochs to wait for improvement\n",
    "early_stop_count = 0\n",
    "\n",
    "for epoch in tqdm(range(epochs)):  # Number of epochs to train\n",
    "    model.train()\n",
    "    train_loss = 0.0\n",
    "\n",
    "    for inputs, targets in tqdm(train_loader):\n",
    "        optimizer.zero_grad()\n",
    "        outputs = model(inputs)\n",
    "#         print(outputs.shape, targets.shape)\n",
    "        loss = criterion(outputs, targets)\n",
    "        print(loss)\n",
    "        loss.backward()\n",
    "        optimizer.step()\n",
    "        train_loss += loss.item()\n",
    "\n",
    "    # Validation\n",
    "    model.eval()\n",
    "    val_loss = 0.0\n",
    "\n",
    "    with torch.no_grad():\n",
    "        for inputs, targets in val_loader:\n",
    "            outputs = model(inputs)\n",
    "            loss = criterion(outputs, targets)\n",
    "            print(loss)\n",
    "            val_loss += loss.item()\n",
    "\n",
    "    train_loss /= len(train_loader)\n",
    "    val_loss /= len(val_loader)\n",
    "\n",
    "    print(f'Epoch [{epoch+1}/30], Train Loss: {train_loss:.4f}, Val Loss: {val_loss:.4f}')\n",
    "\n",
    "    # Check for early stopping\n",
    "    if val_loss < best_val_loss:\n",
    "        best_val_loss = val_loss\n",
    "        early_stop_count = 0\n",
    "    else:\n",
    "        early_stop_count += 1\n",
    "        if early_stop_count >= patience:\n",
    "            print(\"Early stopping! No improvement in validation loss.\")\n",
    "            break"
   ]
  },
  {
   "cell_type": "code",
   "execution_count": null,
   "id": "539c7aff",
   "metadata": {},
   "outputs": [],
   "source": [
    "test_dataset = CustomDataset(test_input, None)\n",
    "test_loader = DataLoader(test_dataset, batch_size = CFG['BATCH_SIZE'], shuffle=False, num_workers=0)"
   ]
  },
  {
   "cell_type": "code",
   "execution_count": 62,
   "id": "fd1b425c",
   "metadata": {},
   "outputs": [],
   "source": [
    "def inference(model, test_loader):\n",
    "    predictions = []\n",
    "\n",
    "    with torch.no_grad():\n",
    "        # gradient 계산하지 않도록\n",
    "        for X in tqdm(iter(test_loader)):\n",
    "            # 입력 데이터 전달\n",
    "            output = model(X)\n",
    "\n",
    "            # 모델 출력인 output을 CPU로 이동하고 numpy 배열로 변환\n",
    "            output = output.cpu().numpy()\n",
    "\n",
    "            # (batch_size, 1, output_size)에서 (batch_size, output_size)로 변경\n",
    "#             output = np.squeeze(output, axis=1)\n",
    "            print(output.shape)\n",
    "            predictions.extend(output)\n",
    "\n",
    "    return np.array(predictions)"
   ]
  },
  {
   "cell_type": "code",
   "execution_count": 63,
   "id": "d9d0d2f9",
   "metadata": {},
   "outputs": [
    {
     "name": "stderr",
     "output_type": "stream",
     "text": [
      "\r",
      "  0%|                                                    | 0/32 [00:00<?, ?it/s]"
     ]
    },
    {
     "name": "stdout",
     "output_type": "stream",
     "text": [
      "h_01 :  torch.Size([2, 512, 256])\n",
      "output1 :  torch.Size([512, 120, 256])\n",
      "hn1 :  torch.Size([2, 512, 256])\n"
     ]
    },
    {
     "name": "stderr",
     "output_type": "stream",
     "text": [
      "\r",
      "  3%|█▍                                          | 1/32 [00:04<02:28,  4.80s/it]"
     ]
    },
    {
     "name": "stdout",
     "output_type": "stream",
     "text": [
      "output2 :  torch.Size([512, 120, 256])\n",
      "hn2 :  torch.Size([2, 512, 256])\n",
      "hn2_last_step :  torch.Size([512, 120, 256])\n",
      "out1 :  torch.Size([512, 128])\n",
      "out2 :  torch.Size([512, 64])\n",
      "out3 :  torch.Size([512, 21])\n",
      "torch.Size([512, 21])\n",
      "(512, 21)\n",
      "h_01 :  torch.Size([2, 512, 256])\n",
      "output1 :  torch.Size([512, 120, 256])\n",
      "hn1 :  torch.Size([2, 512, 256])\n"
     ]
    },
    {
     "name": "stderr",
     "output_type": "stream",
     "text": [
      "\r",
      "  6%|██▊                                         | 2/32 [00:09<02:25,  4.85s/it]"
     ]
    },
    {
     "name": "stdout",
     "output_type": "stream",
     "text": [
      "output2 :  torch.Size([512, 120, 256])\n",
      "hn2 :  torch.Size([2, 512, 256])\n",
      "hn2_last_step :  torch.Size([512, 120, 256])\n",
      "out1 :  torch.Size([512, 128])\n",
      "out2 :  torch.Size([512, 64])\n",
      "out3 :  torch.Size([512, 21])\n",
      "torch.Size([512, 21])\n",
      "(512, 21)\n",
      "h_01 :  torch.Size([2, 512, 256])\n",
      "output1 :  torch.Size([512, 120, 256])\n",
      "hn1 :  torch.Size([2, 512, 256])\n"
     ]
    },
    {
     "name": "stderr",
     "output_type": "stream",
     "text": [
      "\r",
      "  9%|████▏                                       | 3/32 [00:14<02:19,  4.81s/it]"
     ]
    },
    {
     "name": "stdout",
     "output_type": "stream",
     "text": [
      "output2 :  torch.Size([512, 120, 256])\n",
      "hn2 :  torch.Size([2, 512, 256])\n",
      "hn2_last_step :  torch.Size([512, 120, 256])\n",
      "out1 :  torch.Size([512, 128])\n",
      "out2 :  torch.Size([512, 64])\n",
      "out3 :  torch.Size([512, 21])\n",
      "torch.Size([512, 21])\n",
      "(512, 21)\n",
      "h_01 :  torch.Size([2, 512, 256])\n",
      "output1 :  torch.Size([512, 120, 256])\n",
      "hn1 :  torch.Size([2, 512, 256])\n"
     ]
    },
    {
     "name": "stderr",
     "output_type": "stream",
     "text": [
      "\r",
      " 12%|█████▌                                      | 4/32 [00:19<02:14,  4.81s/it]"
     ]
    },
    {
     "name": "stdout",
     "output_type": "stream",
     "text": [
      "output2 :  torch.Size([512, 120, 256])\n",
      "hn2 :  torch.Size([2, 512, 256])\n",
      "hn2_last_step :  torch.Size([512, 120, 256])\n",
      "out1 :  torch.Size([512, 128])\n",
      "out2 :  torch.Size([512, 64])\n",
      "out3 :  torch.Size([512, 21])\n",
      "torch.Size([512, 21])\n",
      "(512, 21)\n",
      "h_01 :  torch.Size([2, 512, 256])\n",
      "output1 :  torch.Size([512, 120, 256])\n",
      "hn1 :  torch.Size([2, 512, 256])\n"
     ]
    },
    {
     "name": "stderr",
     "output_type": "stream",
     "text": [
      "\r",
      " 16%|██████▉                                     | 5/32 [00:24<02:09,  4.80s/it]"
     ]
    },
    {
     "name": "stdout",
     "output_type": "stream",
     "text": [
      "output2 :  torch.Size([512, 120, 256])\n",
      "hn2 :  torch.Size([2, 512, 256])\n",
      "hn2_last_step :  torch.Size([512, 120, 256])\n",
      "out1 :  torch.Size([512, 128])\n",
      "out2 :  torch.Size([512, 64])\n",
      "out3 :  torch.Size([512, 21])\n",
      "torch.Size([512, 21])\n",
      "(512, 21)\n",
      "h_01 :  torch.Size([2, 512, 256])\n",
      "output1 :  torch.Size([512, 120, 256])\n",
      "hn1 :  torch.Size([2, 512, 256])\n"
     ]
    },
    {
     "name": "stderr",
     "output_type": "stream",
     "text": [
      "\r",
      " 19%|████████▎                                   | 6/32 [00:28<02:04,  4.80s/it]"
     ]
    },
    {
     "name": "stdout",
     "output_type": "stream",
     "text": [
      "output2 :  torch.Size([512, 120, 256])\n",
      "hn2 :  torch.Size([2, 512, 256])\n",
      "hn2_last_step :  torch.Size([512, 120, 256])\n",
      "out1 :  torch.Size([512, 128])\n",
      "out2 :  torch.Size([512, 64])\n",
      "out3 :  torch.Size([512, 21])\n",
      "torch.Size([512, 21])\n",
      "(512, 21)\n",
      "h_01 :  torch.Size([2, 512, 256])\n",
      "output1 :  torch.Size([512, 120, 256])\n",
      "hn1 :  torch.Size([2, 512, 256])\n"
     ]
    },
    {
     "name": "stderr",
     "output_type": "stream",
     "text": [
      "\r",
      " 22%|█████████▋                                  | 7/32 [00:33<02:00,  4.80s/it]"
     ]
    },
    {
     "name": "stdout",
     "output_type": "stream",
     "text": [
      "output2 :  torch.Size([512, 120, 256])\n",
      "hn2 :  torch.Size([2, 512, 256])\n",
      "hn2_last_step :  torch.Size([512, 120, 256])\n",
      "out1 :  torch.Size([512, 128])\n",
      "out2 :  torch.Size([512, 64])\n",
      "out3 :  torch.Size([512, 21])\n",
      "torch.Size([512, 21])\n",
      "(512, 21)\n",
      "h_01 :  torch.Size([2, 512, 256])\n",
      "output1 :  torch.Size([512, 120, 256])\n",
      "hn1 :  torch.Size([2, 512, 256])\n"
     ]
    },
    {
     "name": "stderr",
     "output_type": "stream",
     "text": [
      "\r",
      " 25%|███████████                                 | 8/32 [00:38<01:55,  4.80s/it]"
     ]
    },
    {
     "name": "stdout",
     "output_type": "stream",
     "text": [
      "output2 :  torch.Size([512, 120, 256])\n",
      "hn2 :  torch.Size([2, 512, 256])\n",
      "hn2_last_step :  torch.Size([512, 120, 256])\n",
      "out1 :  torch.Size([512, 128])\n",
      "out2 :  torch.Size([512, 64])\n",
      "out3 :  torch.Size([512, 21])\n",
      "torch.Size([512, 21])\n",
      "(512, 21)\n",
      "h_01 :  torch.Size([2, 512, 256])\n",
      "output1 :  torch.Size([512, 120, 256])\n",
      "hn1 :  torch.Size([2, 512, 256])\n"
     ]
    },
    {
     "name": "stderr",
     "output_type": "stream",
     "text": [
      "\r",
      " 28%|████████████▍                               | 9/32 [00:43<01:50,  4.80s/it]"
     ]
    },
    {
     "name": "stdout",
     "output_type": "stream",
     "text": [
      "output2 :  torch.Size([512, 120, 256])\n",
      "hn2 :  torch.Size([2, 512, 256])\n",
      "hn2_last_step :  torch.Size([512, 120, 256])\n",
      "out1 :  torch.Size([512, 128])\n",
      "out2 :  torch.Size([512, 64])\n",
      "out3 :  torch.Size([512, 21])\n",
      "torch.Size([512, 21])\n",
      "(512, 21)\n",
      "h_01 :  torch.Size([2, 512, 256])\n",
      "output1 :  torch.Size([512, 120, 256])\n",
      "hn1 :  torch.Size([2, 512, 256])\n"
     ]
    },
    {
     "name": "stderr",
     "output_type": "stream",
     "text": [
      "\r",
      " 31%|█████████████▍                             | 10/32 [00:48<01:45,  4.80s/it]"
     ]
    },
    {
     "name": "stdout",
     "output_type": "stream",
     "text": [
      "output2 :  torch.Size([512, 120, 256])\n",
      "hn2 :  torch.Size([2, 512, 256])\n",
      "hn2_last_step :  torch.Size([512, 120, 256])\n",
      "out1 :  torch.Size([512, 128])\n",
      "out2 :  torch.Size([512, 64])\n",
      "out3 :  torch.Size([512, 21])\n",
      "torch.Size([512, 21])\n",
      "(512, 21)\n",
      "h_01 :  torch.Size([2, 512, 256])\n",
      "output1 :  torch.Size([512, 120, 256])\n",
      "hn1 :  torch.Size([2, 512, 256])\n"
     ]
    },
    {
     "name": "stderr",
     "output_type": "stream",
     "text": [
      "\r",
      " 34%|██████████████▊                            | 11/32 [00:52<01:40,  4.80s/it]"
     ]
    },
    {
     "name": "stdout",
     "output_type": "stream",
     "text": [
      "output2 :  torch.Size([512, 120, 256])\n",
      "hn2 :  torch.Size([2, 512, 256])\n",
      "hn2_last_step :  torch.Size([512, 120, 256])\n",
      "out1 :  torch.Size([512, 128])\n",
      "out2 :  torch.Size([512, 64])\n",
      "out3 :  torch.Size([512, 21])\n",
      "torch.Size([512, 21])\n",
      "(512, 21)\n",
      "h_01 :  torch.Size([2, 512, 256])\n",
      "output1 :  torch.Size([512, 120, 256])\n",
      "hn1 :  torch.Size([2, 512, 256])\n"
     ]
    },
    {
     "name": "stderr",
     "output_type": "stream",
     "text": [
      "\r",
      " 38%|████████████████▏                          | 12/32 [00:57<01:36,  4.81s/it]"
     ]
    },
    {
     "name": "stdout",
     "output_type": "stream",
     "text": [
      "output2 :  torch.Size([512, 120, 256])\n",
      "hn2 :  torch.Size([2, 512, 256])\n",
      "hn2_last_step :  torch.Size([512, 120, 256])\n",
      "out1 :  torch.Size([512, 128])\n",
      "out2 :  torch.Size([512, 64])\n",
      "out3 :  torch.Size([512, 21])\n",
      "torch.Size([512, 21])\n",
      "(512, 21)\n",
      "h_01 :  torch.Size([2, 512, 256])\n",
      "output1 :  torch.Size([512, 120, 256])\n",
      "hn1 :  torch.Size([2, 512, 256])\n"
     ]
    },
    {
     "name": "stderr",
     "output_type": "stream",
     "text": [
      "\r",
      " 41%|█████████████████▍                         | 13/32 [01:02<01:31,  4.81s/it]"
     ]
    },
    {
     "name": "stdout",
     "output_type": "stream",
     "text": [
      "output2 :  torch.Size([512, 120, 256])\n",
      "hn2 :  torch.Size([2, 512, 256])\n",
      "hn2_last_step :  torch.Size([512, 120, 256])\n",
      "out1 :  torch.Size([512, 128])\n",
      "out2 :  torch.Size([512, 64])\n",
      "out3 :  torch.Size([512, 21])\n",
      "torch.Size([512, 21])\n",
      "(512, 21)\n",
      "h_01 :  torch.Size([2, 512, 256])\n",
      "output1 :  torch.Size([512, 120, 256])\n",
      "hn1 :  torch.Size([2, 512, 256])\n"
     ]
    },
    {
     "name": "stderr",
     "output_type": "stream",
     "text": [
      "\r",
      " 44%|██████████████████▊                        | 14/32 [01:07<01:26,  4.80s/it]"
     ]
    },
    {
     "name": "stdout",
     "output_type": "stream",
     "text": [
      "output2 :  torch.Size([512, 120, 256])\n",
      "hn2 :  torch.Size([2, 512, 256])\n",
      "hn2_last_step :  torch.Size([512, 120, 256])\n",
      "out1 :  torch.Size([512, 128])\n",
      "out2 :  torch.Size([512, 64])\n",
      "out3 :  torch.Size([512, 21])\n",
      "torch.Size([512, 21])\n",
      "(512, 21)\n",
      "h_01 :  torch.Size([2, 512, 256])\n",
      "output1 :  torch.Size([512, 120, 256])\n",
      "hn1 :  torch.Size([2, 512, 256])\n"
     ]
    },
    {
     "name": "stderr",
     "output_type": "stream",
     "text": [
      "\r",
      " 47%|████████████████████▏                      | 15/32 [01:12<01:21,  4.79s/it]"
     ]
    },
    {
     "name": "stdout",
     "output_type": "stream",
     "text": [
      "output2 :  torch.Size([512, 120, 256])\n",
      "hn2 :  torch.Size([2, 512, 256])\n",
      "hn2_last_step :  torch.Size([512, 120, 256])\n",
      "out1 :  torch.Size([512, 128])\n",
      "out2 :  torch.Size([512, 64])\n",
      "out3 :  torch.Size([512, 21])\n",
      "torch.Size([512, 21])\n",
      "(512, 21)\n",
      "h_01 :  torch.Size([2, 512, 256])\n",
      "output1 :  torch.Size([512, 120, 256])\n",
      "hn1 :  torch.Size([2, 512, 256])\n"
     ]
    },
    {
     "name": "stderr",
     "output_type": "stream",
     "text": [
      "\r",
      " 50%|█████████████████████▌                     | 16/32 [01:16<01:16,  4.79s/it]"
     ]
    },
    {
     "name": "stdout",
     "output_type": "stream",
     "text": [
      "output2 :  torch.Size([512, 120, 256])\n",
      "hn2 :  torch.Size([2, 512, 256])\n",
      "hn2_last_step :  torch.Size([512, 120, 256])\n",
      "out1 :  torch.Size([512, 128])\n",
      "out2 :  torch.Size([512, 64])\n",
      "out3 :  torch.Size([512, 21])\n",
      "torch.Size([512, 21])\n",
      "(512, 21)\n",
      "h_01 :  torch.Size([2, 512, 256])\n",
      "output1 :  torch.Size([512, 120, 256])\n",
      "hn1 :  torch.Size([2, 512, 256])\n"
     ]
    },
    {
     "name": "stderr",
     "output_type": "stream",
     "text": [
      "\r",
      " 53%|██████████████████████▊                    | 17/32 [01:21<01:11,  4.80s/it]"
     ]
    },
    {
     "name": "stdout",
     "output_type": "stream",
     "text": [
      "output2 :  torch.Size([512, 120, 256])\n",
      "hn2 :  torch.Size([2, 512, 256])\n",
      "hn2_last_step :  torch.Size([512, 120, 256])\n",
      "out1 :  torch.Size([512, 128])\n",
      "out2 :  torch.Size([512, 64])\n",
      "out3 :  torch.Size([512, 21])\n",
      "torch.Size([512, 21])\n",
      "(512, 21)\n",
      "h_01 :  torch.Size([2, 512, 256])\n",
      "output1 :  torch.Size([512, 120, 256])\n",
      "hn1 :  torch.Size([2, 512, 256])\n"
     ]
    },
    {
     "name": "stderr",
     "output_type": "stream",
     "text": [
      "\r",
      " 56%|████████████████████████▏                  | 18/32 [01:26<01:07,  4.80s/it]"
     ]
    },
    {
     "name": "stdout",
     "output_type": "stream",
     "text": [
      "output2 :  torch.Size([512, 120, 256])\n",
      "hn2 :  torch.Size([2, 512, 256])\n",
      "hn2_last_step :  torch.Size([512, 120, 256])\n",
      "out1 :  torch.Size([512, 128])\n",
      "out2 :  torch.Size([512, 64])\n",
      "out3 :  torch.Size([512, 21])\n",
      "torch.Size([512, 21])\n",
      "(512, 21)\n",
      "h_01 :  torch.Size([2, 512, 256])\n",
      "output1 :  torch.Size([512, 120, 256])\n",
      "hn1 :  torch.Size([2, 512, 256])\n"
     ]
    },
    {
     "name": "stderr",
     "output_type": "stream",
     "text": [
      "\r",
      " 59%|█████████████████████████▌                 | 19/32 [01:31<01:02,  4.80s/it]"
     ]
    },
    {
     "name": "stdout",
     "output_type": "stream",
     "text": [
      "output2 :  torch.Size([512, 120, 256])\n",
      "hn2 :  torch.Size([2, 512, 256])\n",
      "hn2_last_step :  torch.Size([512, 120, 256])\n",
      "out1 :  torch.Size([512, 128])\n",
      "out2 :  torch.Size([512, 64])\n",
      "out3 :  torch.Size([512, 21])\n",
      "torch.Size([512, 21])\n",
      "(512, 21)\n",
      "h_01 :  torch.Size([2, 512, 256])\n",
      "output1 :  torch.Size([512, 120, 256])\n",
      "hn1 :  torch.Size([2, 512, 256])\n"
     ]
    },
    {
     "name": "stderr",
     "output_type": "stream",
     "text": [
      "\r",
      " 62%|██████████████████████████▉                | 20/32 [01:36<00:57,  4.81s/it]"
     ]
    },
    {
     "name": "stdout",
     "output_type": "stream",
     "text": [
      "output2 :  torch.Size([512, 120, 256])\n",
      "hn2 :  torch.Size([2, 512, 256])\n",
      "hn2_last_step :  torch.Size([512, 120, 256])\n",
      "out1 :  torch.Size([512, 128])\n",
      "out2 :  torch.Size([512, 64])\n",
      "out3 :  torch.Size([512, 21])\n",
      "torch.Size([512, 21])\n",
      "(512, 21)\n",
      "h_01 :  torch.Size([2, 512, 256])\n",
      "output1 :  torch.Size([512, 120, 256])\n",
      "hn1 :  torch.Size([2, 512, 256])\n"
     ]
    },
    {
     "name": "stderr",
     "output_type": "stream",
     "text": [
      "\r",
      " 66%|████████████████████████████▏              | 21/32 [01:40<00:52,  4.81s/it]"
     ]
    },
    {
     "name": "stdout",
     "output_type": "stream",
     "text": [
      "output2 :  torch.Size([512, 120, 256])\n",
      "hn2 :  torch.Size([2, 512, 256])\n",
      "hn2_last_step :  torch.Size([512, 120, 256])\n",
      "out1 :  torch.Size([512, 128])\n",
      "out2 :  torch.Size([512, 64])\n",
      "out3 :  torch.Size([512, 21])\n",
      "torch.Size([512, 21])\n",
      "(512, 21)\n",
      "h_01 :  torch.Size([2, 512, 256])\n",
      "output1 :  torch.Size([512, 120, 256])\n",
      "hn1 :  torch.Size([2, 512, 256])\n"
     ]
    },
    {
     "name": "stderr",
     "output_type": "stream",
     "text": [
      "\r",
      " 69%|█████████████████████████████▌             | 22/32 [01:45<00:48,  4.81s/it]"
     ]
    },
    {
     "name": "stdout",
     "output_type": "stream",
     "text": [
      "output2 :  torch.Size([512, 120, 256])\n",
      "hn2 :  torch.Size([2, 512, 256])\n",
      "hn2_last_step :  torch.Size([512, 120, 256])\n",
      "out1 :  torch.Size([512, 128])\n",
      "out2 :  torch.Size([512, 64])\n",
      "out3 :  torch.Size([512, 21])\n",
      "torch.Size([512, 21])\n",
      "(512, 21)\n",
      "h_01 :  torch.Size([2, 512, 256])\n",
      "output1 :  torch.Size([512, 120, 256])\n",
      "hn1 :  torch.Size([2, 512, 256])\n"
     ]
    },
    {
     "name": "stderr",
     "output_type": "stream",
     "text": [
      "\r",
      " 72%|██████████████████████████████▉            | 23/32 [01:50<00:43,  4.81s/it]"
     ]
    },
    {
     "name": "stdout",
     "output_type": "stream",
     "text": [
      "output2 :  torch.Size([512, 120, 256])\n",
      "hn2 :  torch.Size([2, 512, 256])\n",
      "hn2_last_step :  torch.Size([512, 120, 256])\n",
      "out1 :  torch.Size([512, 128])\n",
      "out2 :  torch.Size([512, 64])\n",
      "out3 :  torch.Size([512, 21])\n",
      "torch.Size([512, 21])\n",
      "(512, 21)\n",
      "h_01 :  torch.Size([2, 512, 256])\n",
      "output1 :  torch.Size([512, 120, 256])\n",
      "hn1 :  torch.Size([2, 512, 256])\n"
     ]
    },
    {
     "name": "stderr",
     "output_type": "stream",
     "text": [
      "\r",
      " 75%|████████████████████████████████▎          | 24/32 [01:55<00:38,  4.81s/it]"
     ]
    },
    {
     "name": "stdout",
     "output_type": "stream",
     "text": [
      "output2 :  torch.Size([512, 120, 256])\n",
      "hn2 :  torch.Size([2, 512, 256])\n",
      "hn2_last_step :  torch.Size([512, 120, 256])\n",
      "out1 :  torch.Size([512, 128])\n",
      "out2 :  torch.Size([512, 64])\n",
      "out3 :  torch.Size([512, 21])\n",
      "torch.Size([512, 21])\n",
      "(512, 21)\n",
      "h_01 :  torch.Size([2, 512, 256])\n",
      "output1 :  torch.Size([512, 120, 256])\n",
      "hn1 :  torch.Size([2, 512, 256])\n"
     ]
    },
    {
     "name": "stderr",
     "output_type": "stream",
     "text": [
      "\r",
      " 78%|█████████████████████████████████▌         | 25/32 [02:00<00:33,  4.81s/it]"
     ]
    },
    {
     "name": "stdout",
     "output_type": "stream",
     "text": [
      "output2 :  torch.Size([512, 120, 256])\n",
      "hn2 :  torch.Size([2, 512, 256])\n",
      "hn2_last_step :  torch.Size([512, 120, 256])\n",
      "out1 :  torch.Size([512, 128])\n",
      "out2 :  torch.Size([512, 64])\n",
      "out3 :  torch.Size([512, 21])\n",
      "torch.Size([512, 21])\n",
      "(512, 21)\n",
      "h_01 :  torch.Size([2, 512, 256])\n",
      "output1 :  torch.Size([512, 120, 256])\n",
      "hn1 :  torch.Size([2, 512, 256])\n"
     ]
    },
    {
     "name": "stderr",
     "output_type": "stream",
     "text": [
      "\r",
      " 81%|██████████████████████████████████▉        | 26/32 [02:04<00:28,  4.81s/it]"
     ]
    },
    {
     "name": "stdout",
     "output_type": "stream",
     "text": [
      "output2 :  torch.Size([512, 120, 256])\n",
      "hn2 :  torch.Size([2, 512, 256])\n",
      "hn2_last_step :  torch.Size([512, 120, 256])\n",
      "out1 :  torch.Size([512, 128])\n",
      "out2 :  torch.Size([512, 64])\n",
      "out3 :  torch.Size([512, 21])\n",
      "torch.Size([512, 21])\n",
      "(512, 21)\n",
      "h_01 :  torch.Size([2, 512, 256])\n",
      "output1 :  torch.Size([512, 120, 256])\n",
      "hn1 :  torch.Size([2, 512, 256])\n"
     ]
    },
    {
     "name": "stderr",
     "output_type": "stream",
     "text": [
      "\r",
      " 84%|████████████████████████████████████▎      | 27/32 [02:09<00:24,  4.84s/it]"
     ]
    },
    {
     "name": "stdout",
     "output_type": "stream",
     "text": [
      "output2 :  torch.Size([512, 120, 256])\n",
      "hn2 :  torch.Size([2, 512, 256])\n",
      "hn2_last_step :  torch.Size([512, 120, 256])\n",
      "out1 :  torch.Size([512, 128])\n",
      "out2 :  torch.Size([512, 64])\n",
      "out3 :  torch.Size([512, 21])\n",
      "torch.Size([512, 21])\n",
      "(512, 21)\n",
      "h_01 :  torch.Size([2, 512, 256])\n",
      "output1 :  torch.Size([512, 120, 256])\n",
      "hn1 :  torch.Size([2, 512, 256])\n"
     ]
    },
    {
     "name": "stderr",
     "output_type": "stream",
     "text": [
      "\r",
      " 88%|█████████████████████████████████████▋     | 28/32 [02:14<00:19,  4.87s/it]"
     ]
    },
    {
     "name": "stdout",
     "output_type": "stream",
     "text": [
      "output2 :  torch.Size([512, 120, 256])\n",
      "hn2 :  torch.Size([2, 512, 256])\n",
      "hn2_last_step :  torch.Size([512, 120, 256])\n",
      "out1 :  torch.Size([512, 128])\n",
      "out2 :  torch.Size([512, 64])\n",
      "out3 :  torch.Size([512, 21])\n",
      "torch.Size([512, 21])\n",
      "(512, 21)\n",
      "h_01 :  torch.Size([2, 512, 256])\n",
      "output1 :  torch.Size([512, 120, 256])\n",
      "hn1 :  torch.Size([2, 512, 256])\n"
     ]
    },
    {
     "name": "stderr",
     "output_type": "stream",
     "text": [
      "\r",
      " 91%|██████████████████████████████████████▉    | 29/32 [02:19<00:14,  4.88s/it]"
     ]
    },
    {
     "name": "stdout",
     "output_type": "stream",
     "text": [
      "output2 :  torch.Size([512, 120, 256])\n",
      "hn2 :  torch.Size([2, 512, 256])\n",
      "hn2_last_step :  torch.Size([512, 120, 256])\n",
      "out1 :  torch.Size([512, 128])\n",
      "out2 :  torch.Size([512, 64])\n",
      "out3 :  torch.Size([512, 21])\n",
      "torch.Size([512, 21])\n",
      "(512, 21)\n",
      "h_01 :  torch.Size([2, 512, 256])\n",
      "output1 :  torch.Size([512, 120, 256])\n",
      "hn1 :  torch.Size([2, 512, 256])\n"
     ]
    },
    {
     "name": "stderr",
     "output_type": "stream",
     "text": [
      "\r",
      " 94%|████████████████████████████████████████▎  | 30/32 [02:24<00:09,  4.90s/it]"
     ]
    },
    {
     "name": "stdout",
     "output_type": "stream",
     "text": [
      "output2 :  torch.Size([512, 120, 256])\n",
      "hn2 :  torch.Size([2, 512, 256])\n",
      "hn2_last_step :  torch.Size([512, 120, 256])\n",
      "out1 :  torch.Size([512, 128])\n",
      "out2 :  torch.Size([512, 64])\n",
      "out3 :  torch.Size([512, 21])\n",
      "torch.Size([512, 21])\n",
      "(512, 21)\n",
      "h_01 :  torch.Size([2, 512, 256])\n",
      "output1 :  torch.Size([512, 120, 256])\n",
      "hn1 :  torch.Size([2, 512, 256])\n"
     ]
    },
    {
     "name": "stderr",
     "output_type": "stream",
     "text": [
      "\r",
      " 97%|█████████████████████████████████████████▋ | 31/32 [02:29<00:04,  4.89s/it]"
     ]
    },
    {
     "name": "stdout",
     "output_type": "stream",
     "text": [
      "output2 :  torch.Size([512, 120, 256])\n",
      "hn2 :  torch.Size([2, 512, 256])\n",
      "hn2_last_step :  torch.Size([512, 120, 256])\n",
      "out1 :  torch.Size([512, 128])\n",
      "out2 :  torch.Size([512, 64])\n",
      "out3 :  torch.Size([512, 21])\n",
      "torch.Size([512, 21])\n",
      "(512, 21)\n",
      "h_01 :  torch.Size([2, 18, 256])\n",
      "output1 :  torch.Size([18, 120, 256])\n",
      "hn1 :  torch.Size([2, 18, 256])\n"
     ]
    },
    {
     "name": "stderr",
     "output_type": "stream",
     "text": [
      "100%|███████████████████████████████████████████| 32/32 [02:29<00:00,  4.68s/it]"
     ]
    },
    {
     "name": "stdout",
     "output_type": "stream",
     "text": [
      "output2 :  torch.Size([18, 120, 256])\n",
      "hn2 :  torch.Size([2, 18, 256])\n",
      "hn2_last_step :  torch.Size([18, 120, 256])\n",
      "out1 :  torch.Size([18, 128])\n",
      "out2 :  torch.Size([18, 64])\n",
      "out3 :  torch.Size([18, 21])\n",
      "torch.Size([18, 21])\n",
      "(18, 21)\n"
     ]
    },
    {
     "name": "stderr",
     "output_type": "stream",
     "text": [
      "\n"
     ]
    }
   ],
   "source": [
    "# 학습이 완료된 모델을 평가 모드로 전환\n",
    "model.eval()\n",
    "\n",
    "# test_loader를 사용하여 예측 수행\n",
    "predictions = inference(model, test_loader)"
   ]
  },
  {
   "cell_type": "code",
   "execution_count": 65,
   "id": "feb9003e",
   "metadata": {},
   "outputs": [
    {
     "data": {
      "text/plain": [
       "(15890, 21)"
      ]
     },
     "execution_count": 65,
     "metadata": {},
     "output_type": "execute_result"
    }
   ],
   "source": [
    "predictions.shape"
   ]
  },
  {
   "cell_type": "code",
   "execution_count": 66,
   "id": "6a134f41",
   "metadata": {},
   "outputs": [],
   "source": [
    "# 추론 결과를 inverse scaling\n",
    "for idx in range(len(predictions)):\n",
    "    predictions[idx, :] = predictions[idx, :] * (scale_max_dict[idx] - scale_min_dict[idx]) + scale_min_dict[idx]\n",
    "\n",
    "# 결과 후처리\n",
    "pred = np.round(predictions, 0).astype(int)"
   ]
  },
  {
   "cell_type": "code",
   "execution_count": 67,
   "id": "d299799b",
   "metadata": {},
   "outputs": [
    {
     "data": {
      "text/plain": [
       "(15890, 21)"
      ]
     },
     "execution_count": 67,
     "metadata": {},
     "output_type": "execute_result"
    }
   ],
   "source": [
    "pred.shape"
   ]
  },
  {
   "cell_type": "code",
   "execution_count": 68,
   "id": "075b2f58",
   "metadata": {},
   "outputs": [
    {
     "data": {
      "text/plain": [
       "array([[ 2,  1,  0, ..., -1,  0,  0],\n",
       "       [ 1,  1,  0, ...,  0,  0,  0],\n",
       "       [ 5,  3, -2, ..., -2, -1,  0],\n",
       "       ...,\n",
       "       [ 4,  2, -1, ..., -2, -1,  0],\n",
       "       [ 2,  1, -1, ..., -1, -1,  0],\n",
       "       [ 0,  0,  0, ...,  0,  0,  0]])"
      ]
     },
     "execution_count": 68,
     "metadata": {},
     "output_type": "execute_result"
    }
   ],
   "source": [
    "pred"
   ]
  },
  {
   "cell_type": "code",
   "execution_count": null,
   "id": "90ddc170",
   "metadata": {},
   "outputs": [],
   "source": []
  }
 ],
 "metadata": {
  "kernelspec": {
   "display_name": "Python 3 (ipykernel)",
   "language": "python",
   "name": "python3"
  },
  "language_info": {
   "codemirror_mode": {
    "name": "ipython",
    "version": 3
   },
   "file_extension": ".py",
   "mimetype": "text/x-python",
   "name": "python",
   "nbconvert_exporter": "python",
   "pygments_lexer": "ipython3",
   "version": "3.8.5"
  }
 },
 "nbformat": 4,
 "nbformat_minor": 5
}
