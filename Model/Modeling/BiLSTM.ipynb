{
 "cells": [
  {
   "cell_type": "markdown",
   "metadata": {},
   "source": [
    "# Library import "
   ]
  },
  {
   "cell_type": "code",
   "execution_count": 1,
   "metadata": {},
   "outputs": [],
   "source": [
    "import os\n",
    "import random\n",
    "import math\n",
    "import pandas as pd\n",
    "import numpy as np\n",
    "from sklearn.preprocessing import LabelEncoder\n",
    "\n",
    "import torch\n",
    "import torch.nn.functional as F\n",
    "from torch import nn, optim\n",
    "from torch.utils.data import Dataset, DataLoader\n",
    "\n",
    "from omegaconf import OmegaConf, DictConfig\n",
    "\n",
    "from tqdm.auto import tqdm\n",
    "import warnings\n",
    "import wandb\n",
    "from datetime import datetime\n",
    "import re\n",
    "from typing import Tuple\n",
    "\n",
    "warnings.filterwarnings(\"ignore\")"
   ]
  },
  {
   "cell_type": "code",
   "execution_count": 2,
   "metadata": {},
   "outputs": [],
   "source": [
    "def sanitize_filename(filename):\n",
    "    # Remove characters that are not allowed in Windows file names\n",
    "    # (e.g., : / \\ ? * < > | \")\n",
    "    filename = re.sub(r'[\\\\/:*?\"<>|]', '_', filename)\n",
    "    return filename"
   ]
  },
  {
   "cell_type": "code",
   "execution_count": 3,
   "metadata": {},
   "outputs": [],
   "source": [
    "device = torch.device(\"cuda\") if torch.cuda.is_available() else torch.device(\"cpu\")"
   ]
  },
  {
   "cell_type": "markdown",
   "metadata": {},
   "source": [
    "# Configuration"
   ]
  },
  {
   "cell_type": "code",
   "execution_count": 4,
   "metadata": {},
   "outputs": [],
   "source": [
    "project_root = os.getcwd()\n",
    "data_root = os.path.join(project_root, \"data\")"
   ]
  },
  {
   "cell_type": "code",
   "execution_count": 161,
   "metadata": {},
   "outputs": [
    {
     "name": "stdout",
     "output_type": "stream",
     "text": [
      "WINDOW_SIZE: 90\n",
      "PREDICT_SIZE: 21\n",
      "EPOCHS: 2\n",
      "LEARNING_RATE: 0.001\n",
      "BATCH_SIZE: 2048\n",
      "NUM_WORKERS: 0\n",
      "SEED: 29\n",
      "input_size: 5\n",
      "hidden_size: 512\n",
      "output_size: 21\n",
      "num_layers: 3\n",
      "num_attention_heads: 4\n",
      "feedforward_dim: 25\n",
      "dropout_rate: 0.2\n",
      "\n"
     ]
    }
   ],
   "source": [
    "cfg_dict: dict = {\n",
    "    \"WINDOW_SIZE\" : 90,\n",
    "    \"PREDICT_SIZE\" : 21,\n",
    "    \"EPOCHS\" : 2,\n",
    "    \"LEARNING_RATE\" : 1e-3,\n",
    "    \"BATCH_SIZE\" : 2048,\n",
    "    \"NUM_WORKERS\" : 0,\n",
    "    \"SEED\" : 29,\n",
    "    \"input_size\" : 5,\n",
    "    \"hidden_size\" : 512,\n",
    "    \"output_size\" : 21,\n",
    "    \"num_layers\" : 3,\n",
    "    \"num_attention_heads\" : 4,\n",
    "    \"feedforward_dim\" : 25,\n",
    "    \"dropout_rate\" : 0.2\n",
    "}\n",
    "\n",
    "cfg = OmegaConf.create(cfg_dict)\n",
    "print(OmegaConf.to_yaml(cfg))"
   ]
  },
  {
   "cell_type": "markdown",
   "metadata": {},
   "source": [
    "### SET SEED"
   ]
  },
  {
   "cell_type": "code",
   "execution_count": 6,
   "metadata": {},
   "outputs": [],
   "source": [
    "random.seed(cfg[\"SEED\"])\n",
    "os.environ[\"PYTHONHASHSEED\"] = str(cfg[\"SEED\"])\n",
    "np.random.seed(cfg[\"SEED\"])\n",
    "torch.manual_seed(cfg[\"SEED\"])\n",
    "torch.cuda.manual_seed(cfg[\"SEED\"])\n",
    "torch.backends.cudnn.deterministic = True\n",
    "torch.backends.cudnn.benchmark = False # 실험시 False"
   ]
  },
  {
   "cell_type": "markdown",
   "metadata": {},
   "source": [
    "# Data Load"
   ]
  },
  {
   "cell_type": "code",
   "execution_count": 7,
   "metadata": {},
   "outputs": [],
   "source": [
    "train = pd.read_csv(data_root+\"\\\\train.csv\")\n",
    "train.drop([\"ID\", \"제품\"], axis=1, inplace=True)"
   ]
  },
  {
   "cell_type": "code",
   "execution_count": 8,
   "metadata": {},
   "outputs": [
    {
     "data": {
      "text/html": [
       "<div>\n",
       "<style scoped>\n",
       "    .dataframe tbody tr th:only-of-type {\n",
       "        vertical-align: middle;\n",
       "    }\n",
       "\n",
       "    .dataframe tbody tr th {\n",
       "        vertical-align: top;\n",
       "    }\n",
       "\n",
       "    .dataframe thead th {\n",
       "        text-align: right;\n",
       "    }\n",
       "</style>\n",
       "<table border=\"1\" class=\"dataframe\">\n",
       "  <thead>\n",
       "    <tr style=\"text-align: right;\">\n",
       "      <th></th>\n",
       "      <th>대분류</th>\n",
       "      <th>중분류</th>\n",
       "      <th>소분류</th>\n",
       "      <th>브랜드</th>\n",
       "      <th>2022-01-01</th>\n",
       "      <th>2022-01-02</th>\n",
       "      <th>2022-01-03</th>\n",
       "      <th>2022-01-04</th>\n",
       "      <th>2022-01-05</th>\n",
       "      <th>2022-01-06</th>\n",
       "      <th>...</th>\n",
       "      <th>2023-03-26</th>\n",
       "      <th>2023-03-27</th>\n",
       "      <th>2023-03-28</th>\n",
       "      <th>2023-03-29</th>\n",
       "      <th>2023-03-30</th>\n",
       "      <th>2023-03-31</th>\n",
       "      <th>2023-04-01</th>\n",
       "      <th>2023-04-02</th>\n",
       "      <th>2023-04-03</th>\n",
       "      <th>2023-04-04</th>\n",
       "    </tr>\n",
       "  </thead>\n",
       "  <tbody>\n",
       "    <tr>\n",
       "      <th>0</th>\n",
       "      <td>B002-C001-0002</td>\n",
       "      <td>B002-C002-0007</td>\n",
       "      <td>B002-C003-0038</td>\n",
       "      <td>B002-00001</td>\n",
       "      <td>0</td>\n",
       "      <td>0</td>\n",
       "      <td>0</td>\n",
       "      <td>0</td>\n",
       "      <td>0</td>\n",
       "      <td>0</td>\n",
       "      <td>...</td>\n",
       "      <td>0</td>\n",
       "      <td>0</td>\n",
       "      <td>0</td>\n",
       "      <td>0</td>\n",
       "      <td>0</td>\n",
       "      <td>0</td>\n",
       "      <td>0</td>\n",
       "      <td>0</td>\n",
       "      <td>0</td>\n",
       "      <td>0</td>\n",
       "    </tr>\n",
       "    <tr>\n",
       "      <th>1</th>\n",
       "      <td>B002-C001-0003</td>\n",
       "      <td>B002-C002-0008</td>\n",
       "      <td>B002-C003-0044</td>\n",
       "      <td>B002-00002</td>\n",
       "      <td>0</td>\n",
       "      <td>0</td>\n",
       "      <td>0</td>\n",
       "      <td>0</td>\n",
       "      <td>0</td>\n",
       "      <td>0</td>\n",
       "      <td>...</td>\n",
       "      <td>0</td>\n",
       "      <td>0</td>\n",
       "      <td>0</td>\n",
       "      <td>1</td>\n",
       "      <td>3</td>\n",
       "      <td>2</td>\n",
       "      <td>0</td>\n",
       "      <td>0</td>\n",
       "      <td>2</td>\n",
       "      <td>0</td>\n",
       "    </tr>\n",
       "    <tr>\n",
       "      <th>2</th>\n",
       "      <td>B002-C001-0003</td>\n",
       "      <td>B002-C002-0008</td>\n",
       "      <td>B002-C003-0044</td>\n",
       "      <td>B002-00002</td>\n",
       "      <td>0</td>\n",
       "      <td>0</td>\n",
       "      <td>0</td>\n",
       "      <td>0</td>\n",
       "      <td>0</td>\n",
       "      <td>0</td>\n",
       "      <td>...</td>\n",
       "      <td>0</td>\n",
       "      <td>0</td>\n",
       "      <td>0</td>\n",
       "      <td>0</td>\n",
       "      <td>0</td>\n",
       "      <td>0</td>\n",
       "      <td>0</td>\n",
       "      <td>0</td>\n",
       "      <td>0</td>\n",
       "      <td>0</td>\n",
       "    </tr>\n",
       "    <tr>\n",
       "      <th>3</th>\n",
       "      <td>B002-C001-0003</td>\n",
       "      <td>B002-C002-0008</td>\n",
       "      <td>B002-C003-0044</td>\n",
       "      <td>B002-00002</td>\n",
       "      <td>0</td>\n",
       "      <td>0</td>\n",
       "      <td>0</td>\n",
       "      <td>0</td>\n",
       "      <td>0</td>\n",
       "      <td>0</td>\n",
       "      <td>...</td>\n",
       "      <td>0</td>\n",
       "      <td>0</td>\n",
       "      <td>0</td>\n",
       "      <td>0</td>\n",
       "      <td>0</td>\n",
       "      <td>0</td>\n",
       "      <td>0</td>\n",
       "      <td>0</td>\n",
       "      <td>0</td>\n",
       "      <td>0</td>\n",
       "    </tr>\n",
       "    <tr>\n",
       "      <th>4</th>\n",
       "      <td>B002-C001-0001</td>\n",
       "      <td>B002-C002-0001</td>\n",
       "      <td>B002-C003-0003</td>\n",
       "      <td>B002-00003</td>\n",
       "      <td>0</td>\n",
       "      <td>0</td>\n",
       "      <td>0</td>\n",
       "      <td>0</td>\n",
       "      <td>0</td>\n",
       "      <td>0</td>\n",
       "      <td>...</td>\n",
       "      <td>0</td>\n",
       "      <td>0</td>\n",
       "      <td>0</td>\n",
       "      <td>0</td>\n",
       "      <td>0</td>\n",
       "      <td>0</td>\n",
       "      <td>0</td>\n",
       "      <td>0</td>\n",
       "      <td>0</td>\n",
       "      <td>0</td>\n",
       "    </tr>\n",
       "  </tbody>\n",
       "</table>\n",
       "<p>5 rows × 463 columns</p>\n",
       "</div>"
      ],
      "text/plain": [
       "              대분류             중분류             소분류         브랜드  2022-01-01  \\\n",
       "0  B002-C001-0002  B002-C002-0007  B002-C003-0038  B002-00001           0   \n",
       "1  B002-C001-0003  B002-C002-0008  B002-C003-0044  B002-00002           0   \n",
       "2  B002-C001-0003  B002-C002-0008  B002-C003-0044  B002-00002           0   \n",
       "3  B002-C001-0003  B002-C002-0008  B002-C003-0044  B002-00002           0   \n",
       "4  B002-C001-0001  B002-C002-0001  B002-C003-0003  B002-00003           0   \n",
       "\n",
       "   2022-01-02  2022-01-03  2022-01-04  2022-01-05  2022-01-06  ...  \\\n",
       "0           0           0           0           0           0  ...   \n",
       "1           0           0           0           0           0  ...   \n",
       "2           0           0           0           0           0  ...   \n",
       "3           0           0           0           0           0  ...   \n",
       "4           0           0           0           0           0  ...   \n",
       "\n",
       "   2023-03-26  2023-03-27  2023-03-28  2023-03-29  2023-03-30  2023-03-31  \\\n",
       "0           0           0           0           0           0           0   \n",
       "1           0           0           0           1           3           2   \n",
       "2           0           0           0           0           0           0   \n",
       "3           0           0           0           0           0           0   \n",
       "4           0           0           0           0           0           0   \n",
       "\n",
       "   2023-04-01  2023-04-02  2023-04-03  2023-04-04  \n",
       "0           0           0           0           0  \n",
       "1           0           0           2           0  \n",
       "2           0           0           0           0  \n",
       "3           0           0           0           0  \n",
       "4           0           0           0           0  \n",
       "\n",
       "[5 rows x 463 columns]"
      ]
     },
     "execution_count": 8,
     "metadata": {},
     "output_type": "execute_result"
    }
   ],
   "source": [
    "train.head()"
   ]
  },
  {
   "cell_type": "code",
   "execution_count": 9,
   "metadata": {},
   "outputs": [
    {
     "data": {
      "application/vnd.jupyter.widget-view+json": {
       "model_id": "d28fa8a77d264814a5b6b20724b3cac1",
       "version_major": 2,
       "version_minor": 0
      },
      "text/plain": [
       "  0%|          | 0/15890 [00:00<?, ?it/s]"
      ]
     },
     "metadata": {},
     "output_type": "display_data"
    }
   ],
   "source": [
    "# Data Scaling\n",
    "scale_max_dict = {}\n",
    "scale_min_dict = {}\n",
    "\n",
    "for idx in tqdm(range(len(train))):\n",
    "    maxi = np.max(train.iloc[idx,4:])\n",
    "    mini = np.min(train.iloc[idx,4:])\n",
    "    \n",
    "    if maxi == mini :\n",
    "        train.iloc[idx,4:] = 0\n",
    "    else:\n",
    "        train.iloc[idx,4:] = (train.iloc[idx,4:] - mini) / (maxi - mini)\n",
    "    \n",
    "    scale_max_dict[idx] = maxi\n",
    "    scale_min_dict[idx] = mini"
   ]
  },
  {
   "cell_type": "code",
   "execution_count": 14,
   "metadata": {},
   "outputs": [],
   "source": [
    "encoder = LabelEncoder()\n",
    "categorical_col = [\"대분류\", \"중분류\", \"소분류\", \"브랜드\"]\n",
    "\n",
    "for col in categorical_col:\n",
    "    train[col] = encoder.fit_transform(train[col])"
   ]
  },
  {
   "cell_type": "code",
   "execution_count": 11,
   "metadata": {},
   "outputs": [],
   "source": [
    "def make_train_data(data, train_size=cfg[\"WINDOW_SIZE\"], predict_size=cfg[\"PREDICT_SIZE\"]):\n",
    "    '''\n",
    "    학습 기간 블럭, 예측 기간 블럭의 세트로 데이터를 생성\n",
    "    data : 일별 판매량\n",
    "    train_size : 학습에 활용할 기간\n",
    "    predict_size : 추론할 기간\n",
    "    '''\n",
    "    num_rows = len(data)\n",
    "    window_size = train_size + predict_size\n",
    "    \n",
    "    input_data = np.empty((num_rows * (len(data.columns) - window_size + 1), train_size, len(data.iloc[0, :4]) + 1))\n",
    "    target_data = np.empty((num_rows * (len(data.columns) - window_size + 1), predict_size))\n",
    "    \n",
    "    for i in tqdm(range(num_rows)):\n",
    "        encode_info = np.array(data.iloc[i, :4])\n",
    "        sales_data = np.array(data.iloc[i, 4:])\n",
    "        \n",
    "        for j in range(len(sales_data) - window_size + 1):\n",
    "            window = sales_data[j : j + window_size]\n",
    "            temp_data = np.column_stack((np.tile(encode_info, (train_size, 1)), window[:train_size]))\n",
    "            input_data[i * (len(data.columns) - window_size + 1) + j] = temp_data\n",
    "            target_data[i * (len(data.columns) - window_size + 1) + j] = window[train_size:]\n",
    "    \n",
    "    return input_data, target_data"
   ]
  },
  {
   "cell_type": "code",
   "execution_count": 12,
   "metadata": {},
   "outputs": [],
   "source": [
    "def make_predict_data(data, train_size=cfg[\"WINDOW_SIZE\"]):\n",
    "    '''\n",
    "    평가 데이터(Test Dataset)를 추론하기 위한 Input 데이터를 생성\n",
    "    data : 일별 판매량\n",
    "    train_size : 추론을 위해 필요한 일별 판매량 기간 (= 학습에 활용할 기간)\n",
    "    '''\n",
    "    num_rows = len(data)\n",
    "    \n",
    "    input_data = np.empty((num_rows, train_size, len(data.iloc[0, :4]) + 1))\n",
    "    \n",
    "    for i in tqdm(range(num_rows)):\n",
    "        encode_info = np.array(data.iloc[i, :4])\n",
    "        sales_data = np.array(data.iloc[i, -train_size:])\n",
    "        \n",
    "        window = sales_data[-train_size : ]\n",
    "        temp_data = np.column_stack((np.tile(encode_info, (train_size, 1)), window[:train_size]))\n",
    "        input_data[i] = temp_data\n",
    "    \n",
    "    return input_data"
   ]
  },
  {
   "cell_type": "code",
   "execution_count": 13,
   "metadata": {},
   "outputs": [
    {
     "data": {
      "application/vnd.jupyter.widget-view+json": {
       "model_id": "b92dde9cbcaa42eebbf4f43e1a2cf963",
       "version_major": 2,
       "version_minor": 0
      },
      "text/plain": [
       "  0%|          | 0/15890 [00:00<?, ?it/s]"
      ]
     },
     "metadata": {},
     "output_type": "display_data"
    },
    {
     "data": {
      "application/vnd.jupyter.widget-view+json": {
       "model_id": "a5495bb86a814193b4134b900bcdefc7",
       "version_major": 2,
       "version_minor": 0
      },
      "text/plain": [
       "  0%|          | 0/15890 [00:00<?, ?it/s]"
      ]
     },
     "metadata": {},
     "output_type": "display_data"
    }
   ],
   "source": [
    "train_input, train_target = make_train_data(train)\n",
    "test_input = make_predict_data(train)"
   ]
  },
  {
   "cell_type": "code",
   "execution_count": 16,
   "metadata": {},
   "outputs": [],
   "source": [
    "# Train / Validation Split\n",
    "data_len = len(train_input)\n",
    "val_input = train_input[-int(data_len*0.2):]\n",
    "val_target = train_target[-int(data_len*0.2):]\n",
    "train_input = train_input[:-int(data_len*0.2)]\n",
    "train_target = train_target[:-int(data_len*0.2)]"
   ]
  },
  {
   "cell_type": "code",
   "execution_count": 17,
   "metadata": {},
   "outputs": [
    {
     "data": {
      "text/plain": [
       "((4487336, 90, 5),\n",
       " (4487336, 21),\n",
       " (1121834, 90, 5),\n",
       " (1121834, 21),\n",
       " (15890, 90, 5))"
      ]
     },
     "execution_count": 17,
     "metadata": {},
     "output_type": "execute_result"
    }
   ],
   "source": [
    "train_input.shape, train_target.shape, val_input.shape, val_target.shape, test_input.shape"
   ]
  },
  {
   "cell_type": "markdown",
   "metadata": {},
   "source": [
    "# DataSet"
   ]
  },
  {
   "cell_type": "code",
   "execution_count": 166,
   "metadata": {},
   "outputs": [],
   "source": [
    "class CustomDataset(Dataset):\n",
    "    def __init__(self, X, Y, pad_to_length=None):\n",
    "        self.X = X\n",
    "        self.Y = Y\n",
    "        self.pad_to_length = pad_to_length\n",
    "\n",
    "    def __getitem__(self, index):\n",
    "        x = torch.Tensor(self.X[index])\n",
    "        y = torch.Tensor(self.Y[index]) if self.Y is not None else None\n",
    "\n",
    "        if self.pad_to_length is not None:\n",
    "            seq_len = x.shape[0]\n",
    "            if seq_len < self.pad_to_length:\n",
    "                # Pad the sequence to the desired length\n",
    "                padding = torch.zeros(self.pad_to_length - seq_len, x.shape[1])\n",
    "                x = torch.cat([x, padding])\n",
    "\n",
    "        return x, y\n",
    "\n",
    "    def __len__(self):\n",
    "        return len(self.X)"
   ]
  },
  {
   "cell_type": "code",
   "execution_count": 66,
   "metadata": {},
   "outputs": [],
   "source": [
    "def collate_fn(batch):\n",
    "    batch = sorted(batch, key=lambda x: x[0].shape[0], reverse=True)\n",
    "    inputs = [item[0] for item in batch]\n",
    "    targets = [item[1] for item in batch]\n",
    "    inputs_padded = nn.utils.rnn.pad_sequence(inputs, batch_first=True)\n",
    "    targets_padded = nn.utils.rnn.pad_sequence(targets, batch_first=True)\n",
    "    return inputs_padded, targets_padded"
   ]
  },
  {
   "cell_type": "code",
   "execution_count": 173,
   "metadata": {},
   "outputs": [],
   "source": [
    "train_dataset = CustomDataset(train_input, train_target)\n",
    "train_dataloader = DataLoader(train_dataset, batch_size = cfg['BATCH_SIZE'], shuffle=True, num_workers=0, collate_fn=collate_fn)\n",
    "\n",
    "val_dataset = CustomDataset(val_input, val_target)\n",
    "val_dataloader = DataLoader(val_dataset, batch_size = cfg['BATCH_SIZE'], shuffle=False, num_workers=0, collate_fn=collate_fn)"
   ]
  },
  {
   "cell_type": "code",
   "execution_count": 167,
   "metadata": {},
   "outputs": [],
   "source": [
    "pad_to_length = max(len(max(train_input, key=len)), len(max(val_input, key=len)))\n",
    "\n",
    "train_dataset = CustomDataset(train_input, train_target, pad_to_length)\n",
    "train_dataloader = DataLoader(train_dataset, batch_size=cfg['BATCH_SIZE'], shuffle=True)\n",
    "\n",
    "val_dataset = CustomDataset(val_input, val_target, pad_to_length)\n",
    "val_dataloader = DataLoader(val_dataset, batch_size=cfg['BATCH_SIZE'], shuffle=False)"
   ]
  },
  {
   "cell_type": "markdown",
   "metadata": {},
   "source": [
    "# Define Model"
   ]
  },
  {
   "cell_type": "code",
   "execution_count": 21,
   "metadata": {},
   "outputs": [],
   "source": [
    "class SalesForecastNet(nn.Module):\n",
    "    def __init__(self, cfg: DictConfig = cfg):\n",
    "        super().__init__()\n",
    "        self.hidden_size = cfg.hidden_size\n",
    "        self.bilstm1 = nn.LSTM(cfg.input_size, cfg.hidden_size, batch_first=True, bidirectional=True)\n",
    "        self.bilstm2 = nn.LSTM(cfg.hidden_size * 2, cfg.hidden_size, batch_first=True, bidirectional=True)\n",
    "        self.fc = nn.Sequential(\n",
    "            nn.Linear(cfg.hidden_size * 2, cfg.hidden_size // 2),\n",
    "            nn.ReLU(),\n",
    "            nn.Dropout(),\n",
    "            nn.Linear(cfg.hidden_size // 2, cfg.output_size)\n",
    "        )\n",
    "        self.actv = nn.ReLU()\n",
    "\n",
    "    def forward(self, x):\n",
    "        batch_size = x.size(0)\n",
    "        hidden1 = self.init_hidden(batch_size, x.device)\n",
    "        lstm_out1, hidden1 = self.bilstm1(x, hidden1)\n",
    "        hidden2 = self.init_hidden(batch_size, x.device)\n",
    "        lstm_out2, hidden2 = self.bilstm2(lstm_out1, hidden2)\n",
    "        last_output = lstm_out2[:, -1, :]\n",
    "        output = self.actv(self.fc(last_output))\n",
    "        return output.squeeze(1)\n",
    "\n",
    "    def init_hidden(self, batch_size, device):\n",
    "        # Initialize hidden state and cell state\n",
    "        return (torch.zeros(2, batch_size, cfg.hidden_size, device=device),\n",
    "                torch.zeros(2, batch_size, cfg.hidden_size, device=device))\n",
    "\n",
    "model = SalesForecastNet(cfg)"
   ]
  },
  {
   "cell_type": "code",
   "execution_count": 22,
   "metadata": {},
   "outputs": [
    {
     "data": {
      "text/plain": [
       "SalesForecastNet(\n",
       "  (bilstm1): LSTM(5, 512, batch_first=True, bidirectional=True)\n",
       "  (bilstm2): LSTM(1024, 512, batch_first=True, bidirectional=True)\n",
       "  (fc): Sequential(\n",
       "    (0): Linear(in_features=1024, out_features=256, bias=True)\n",
       "    (1): ReLU()\n",
       "    (2): Dropout(p=0.5, inplace=False)\n",
       "    (3): Linear(in_features=256, out_features=21, bias=True)\n",
       "  )\n",
       "  (actv): ReLU()\n",
       ")"
      ]
     },
     "execution_count": 22,
     "metadata": {},
     "output_type": "execute_result"
    }
   ],
   "source": [
    "model"
   ]
  },
  {
   "cell_type": "code",
   "execution_count": 155,
   "metadata": {},
   "outputs": [],
   "source": [
    "# class PadToEqualLength(nn.Module):\n",
    "#     def forward(self, x, lengths):\n",
    "#         max_len = torch.max(lengths)\n",
    "#         batch_size, seq_len, input_size = x.size()\n",
    "#         padding = torch.zeros(batch_size, max_len - seq_len, input_size, device=x.device)\n",
    "#         x = torch.cat([x, padding], dim=1)\n",
    "#         return x\n",
    "\n",
    "\n",
    "# class TransformerLayer(nn.Module):\n",
    "#     def __init__(self, hidden_size, num_attention_heads, feedforward_dim, dropout_rate=0.1):\n",
    "#         super(TransformerLayer, self).__init__()\n",
    "#         self.attention = nn.MultiheadAttention(hidden_size, num_attention_heads, dropout=dropout_rate)\n",
    "#         self.norm1 = nn.LayerNorm(hidden_size)\n",
    "#         self.dropout1 = nn.Dropout(dropout_rate)\n",
    "#         self.feedforward = nn.Sequential(\n",
    "#             nn.Linear(hidden_size, feedforward_dim),\n",
    "#             nn.ReLU(),\n",
    "#             nn.Linear(feedforward_dim, hidden_size),\n",
    "#         )\n",
    "#         self.norm2 = nn.LayerNorm(hidden_size)\n",
    "#         self.dropout2 = nn.Dropout(dropout_rate)\n",
    "#         self.activation = nn.ReLU()\n",
    "\n",
    "#     def forward(self, x, mask=None):\n",
    "#         # Self-attention\n",
    "#         attn_output, _ = self.attention(x, x, x, key_padding_mask=~mask)\n",
    "\n",
    "#         # Residual connection and normalization\n",
    "#         x = x + self.dropout1(attn_output)\n",
    "#         x = self.norm1(x)\n",
    "\n",
    "#         # Feedforward\n",
    "#         feedforward_output = self.feedforward(x)\n",
    "\n",
    "#         # Residual connection and normalization\n",
    "#         x = x + self.dropout2(feedforward_output)\n",
    "#         x = self.norm2(x)\n",
    "\n",
    "#         # Activation\n",
    "#         x = self.activation(x)\n",
    "\n",
    "#         return x\n",
    "\n",
    "\n",
    "# class SalesForecastNet(nn.Module):\n",
    "#     def __init__(self, cfg):\n",
    "#         super(SalesForecastNet, self).__init__()\n",
    "#         self.hidden_size = cfg[\"hidden_size\"]\n",
    "#         self.num_layers = cfg[\"num_layers\"]\n",
    "#         self.num_attention_heads = cfg[\"num_attention_heads\"]\n",
    "#         self.feedforward_dim = cfg[\"feedforward_dim\"]\n",
    "#         self.output_size = cfg[\"output_size\"]\n",
    "#         self.dropout_rate = cfg[\"dropout_rate\"]\n",
    "\n",
    "#         self.embedding = nn.Linear(cfg[\"input_size\"], self.hidden_size)\n",
    "#         self.transformer_layers = nn.ModuleList(\n",
    "#             [TransformerLayer(self.hidden_size, self.num_attention_heads, self.feedforward_dim, self.dropout_rate)\n",
    "#              for _ in range(self.num_layers)]\n",
    "#         )\n",
    "#         self.pad_to_equal_length = PadToEqualLength()\n",
    "#         self.fc = nn.Linear(self.hidden_size, self.output_size)\n",
    "#         self.actv = nn.ReLU()\n",
    "\n",
    "#     def forward(self, x, lengths):\n",
    "#         x = self.embedding(x)\n",
    "\n",
    "#         # Transformer layers\n",
    "#         mask = self.pad_to_equal_length(x, lengths).sum(dim=2) != 0\n",
    "#         for layer in self.transformer_layers:\n",
    "#             x = layer(x, mask=mask)\n",
    "\n",
    "#         # Take the last output\n",
    "#         last_output = x[:, -1, :]\n",
    "\n",
    "#         output = self.actv(self.fc(last_output))\n",
    "#         return output"
   ]
  },
  {
   "cell_type": "code",
   "execution_count": 179,
   "metadata": {},
   "outputs": [
    {
     "name": "stdout",
     "output_type": "stream",
     "text": [
      "torch.Size([2048, 90, 5])\n",
      "torch.Size([2048, 21])\n"
     ]
    }
   ],
   "source": [
    "for sample in train_dataloader:\n",
    "    print(sample[0].shape)\n",
    "    print(sample[1].shape)\n",
    "    break"
   ]
  },
  {
   "cell_type": "markdown",
   "metadata": {},
   "source": [
    "# model compile"
   ]
  },
  {
   "cell_type": "code",
   "execution_count": 42,
   "metadata": {},
   "outputs": [],
   "source": [
    "# Warmup Scheduler\n",
    "class WarmupLR(optim.lr_scheduler.LambdaLR):\n",
    "\n",
    "    def __init__(\n",
    "        self,\n",
    "        optimizer: optim.Optimizer,\n",
    "        warmup_end_steps: int,\n",
    "        last_epoch: int = -1,\n",
    "    ):\n",
    "        \n",
    "        def wramup_fn(step: int):\n",
    "            if step < warmup_end_steps:\n",
    "                return float(step) / float(max(warmup_end_steps, 1))\n",
    "            return 1.0\n",
    "        \n",
    "        super().__init__(optimizer, wramup_fn, last_epoch)\n"
   ]
  },
  {
   "cell_type": "code",
   "execution_count": 43,
   "metadata": {},
   "outputs": [
    {
     "data": {
      "text/html": [
       "Finishing last run (ID:ul1m4qwo) before initializing another..."
      ],
      "text/plain": [
       "<IPython.core.display.HTML object>"
      ]
     },
     "metadata": {},
     "output_type": "display_data"
    },
    {
     "data": {
      "text/html": [
       "Waiting for W&B process to finish... <strong style=\"color:green\">(success).</strong>"
      ],
      "text/plain": [
       "<IPython.core.display.HTML object>"
      ]
     },
     "metadata": {},
     "output_type": "display_data"
    },
    {
     "data": {
      "application/vnd.jupyter.widget-view+json": {
       "model_id": "3f2f1b5b3e4b4da0a170291bf4dbfb50",
       "version_major": 2,
       "version_minor": 0
      },
      "text/plain": [
       "VBox(children=(Label(value='0.009 MB of 0.014 MB uploaded (0.000 MB deduped)\\r'), FloatProgress(value=0.667522…"
      ]
     },
     "metadata": {},
     "output_type": "display_data"
    },
    {
     "data": {
      "text/html": [
       " View run <strong style=\"color:#cdcd00\">2023-08-01T16_58_23_SalesForecastNet_Adam_optim_0.001_with_WarmupLR</strong> at: <a href='https://wandb.ai/dorahee/LG_AIMERS_Sales_Forecast/runs/ul1m4qwo' target=\"_blank\">https://wandb.ai/dorahee/LG_AIMERS_Sales_Forecast/runs/ul1m4qwo</a><br/>Synced 5 W&B file(s), 0 media file(s), 0 artifact file(s) and 0 other file(s)"
      ],
      "text/plain": [
       "<IPython.core.display.HTML object>"
      ]
     },
     "metadata": {},
     "output_type": "display_data"
    },
    {
     "data": {
      "text/html": [
       "Find logs at: <code>.\\wandb\\run-20230801_165823-ul1m4qwo\\logs</code>"
      ],
      "text/plain": [
       "<IPython.core.display.HTML object>"
      ]
     },
     "metadata": {},
     "output_type": "display_data"
    },
    {
     "data": {
      "text/html": [
       "Successfully finished last run (ID:ul1m4qwo). Initializing new run:<br/>"
      ],
      "text/plain": [
       "<IPython.core.display.HTML object>"
      ]
     },
     "metadata": {},
     "output_type": "display_data"
    },
    {
     "data": {
      "application/vnd.jupyter.widget-view+json": {
       "model_id": "79ccd1ae3cd44c22832620b476dc1091",
       "version_major": 2,
       "version_minor": 0
      },
      "text/plain": [
       "VBox(children=(Label(value='Waiting for wandb.init()...\\r'), FloatProgress(value=0.016666666666666666, max=1.0…"
      ]
     },
     "metadata": {},
     "output_type": "display_data"
    },
    {
     "data": {
      "text/html": [
       "wandb version 0.15.7 is available!  To upgrade, please run:\n",
       " $ pip install wandb --upgrade"
      ],
      "text/plain": [
       "<IPython.core.display.HTML object>"
      ]
     },
     "metadata": {},
     "output_type": "display_data"
    },
    {
     "data": {
      "text/html": [
       "Tracking run with wandb version 0.15.0"
      ],
      "text/plain": [
       "<IPython.core.display.HTML object>"
      ]
     },
     "metadata": {},
     "output_type": "display_data"
    },
    {
     "data": {
      "text/html": [
       "Run data is saved locally in <code>C:\\Users\\D\\Desktop\\lg\\wandb\\run-20230801_165942-t5vyjfjk</code>"
      ],
      "text/plain": [
       "<IPython.core.display.HTML object>"
      ]
     },
     "metadata": {},
     "output_type": "display_data"
    },
    {
     "data": {
      "text/html": [
       "Syncing run <strong><a href='https://wandb.ai/dorahee/LG_AIMERS_Sales_Forecast/runs/t5vyjfjk' target=\"_blank\">2023-08-01T16_59_42_SalesForecastNet_Adam_optim_0.001_with_WarmupLR</a></strong> to <a href='https://wandb.ai/dorahee/LG_AIMERS_Sales_Forecast' target=\"_blank\">Weights & Biases</a> (<a href='https://wandb.me/run' target=\"_blank\">docs</a>)<br/>"
      ],
      "text/plain": [
       "<IPython.core.display.HTML object>"
      ]
     },
     "metadata": {},
     "output_type": "display_data"
    },
    {
     "data": {
      "text/html": [
       " View project at <a href='https://wandb.ai/dorahee/LG_AIMERS_Sales_Forecast' target=\"_blank\">https://wandb.ai/dorahee/LG_AIMERS_Sales_Forecast</a>"
      ],
      "text/plain": [
       "<IPython.core.display.HTML object>"
      ]
     },
     "metadata": {},
     "output_type": "display_data"
    },
    {
     "data": {
      "text/html": [
       " View run at <a href='https://wandb.ai/dorahee/LG_AIMERS_Sales_Forecast/runs/t5vyjfjk' target=\"_blank\">https://wandb.ai/dorahee/LG_AIMERS_Sales_Forecast/runs/t5vyjfjk</a>"
      ],
      "text/plain": [
       "<IPython.core.display.HTML object>"
      ]
     },
     "metadata": {},
     "output_type": "display_data"
    },
    {
     "data": {
      "text/plain": [
       "[]"
      ]
     },
     "execution_count": 43,
     "metadata": {},
     "output_type": "execute_result"
    }
   ],
   "source": [
    "# set up gpu\n",
    "gpu = 0\n",
    "\n",
    "# define model\n",
    "model = SalesForecastNet(cfg)\n",
    "if gpu is not None:\n",
    "    model.cuda(gpu)\n",
    "model_name = type(model).__name__\n",
    "\n",
    "# define loss\n",
    "loss_function = nn.MSELoss()\n",
    "\n",
    "# define optimizer\n",
    "lr = cfg[\"LEARNING_RATE\"]\n",
    "optimizer = optim.Adam(model.parameters(), lr=lr)\n",
    "optimizer_name = type(optimizer).__name__\n",
    "\n",
    "# define scheduler\n",
    "scheduler = WarmupLR(optimizer, 1500)\n",
    "scheduler_name = type(scheduler).__name__ if scheduler is not None else \"no\"\n",
    "\n",
    "max_epoch = cfg[\"EPOCHS\"]\n",
    "\n",
    "# define wandb\n",
    "project_name = \"LG_AIMERS_Sales_Forecast\"\n",
    "current_time = datetime.now().replace(microsecond=0).isoformat().replace(\":\", \"_\")\n",
    "run_name = f\"{current_time}_{model_name}_{optimizer_name}_optim_{lr}_with_{scheduler_name}\"\n",
    "run_name = sanitize_filename(run_name)\n",
    "run_tags = [project_name]\n",
    "wandb.init(\n",
    "    project=project_name,\n",
    "    name=run_name,\n",
    "    tags=run_tags,\n",
    "    config={\"lr\": lr, \"model_name\": model_name, \"optimizer_name\": optimizer_name, \"scheduler_name\": scheduler_name},\n",
    "    reinit=True\n",
    ")\n",
    "wandb.watch(model)\n",
    "\n",
    "# # set save model path\n",
    "# run_dirname = \"LG_AIMERS_Sales_Forecast\"\n",
    "# log_dir = os.path.join(project_root, \"runs\", run_dirname, run_name)\n",
    "# log_model_path = os.path.join(log_dir, \"models\")\n",
    "# os.makedirs(log_model_path, exist_ok=True)"
   ]
  },
  {
   "cell_type": "markdown",
   "metadata": {},
   "source": [
    "# Define EarlyStopping"
   ]
  },
  {
   "cell_type": "code",
   "execution_count": 44,
   "metadata": {},
   "outputs": [],
   "source": [
    "clip_value = 1.0"
   ]
  },
  {
   "cell_type": "code",
   "execution_count": 175,
   "metadata": {},
   "outputs": [],
   "source": [
    "def train(model, optimizer, train_dataloader, val_dataloader, device):\n",
    "    model.to(device)\n",
    "    criterion = nn.MSELoss().to(device)\n",
    "    best_loss = 9999999\n",
    "    best_model = None\n",
    "    \n",
    "    for epoch in range(1, cfg['EPOCHS']+1):\n",
    "        model.train()\n",
    "        train_loss = []\n",
    "        train_mae = []\n",
    "        for X, Y in tqdm(iter(train_dataloader)):\n",
    "            X = X.to(device)\n",
    "            Y = Y.to(device)\n",
    "            \n",
    "            # Foward\n",
    "            optimizer.zero_grad()\n",
    "            # get prediction\n",
    "            output = model(X)\n",
    "            \n",
    "            loss = criterion(output, Y)\n",
    "            \n",
    "            # back propagation\n",
    "\n",
    "            loss.backward()\n",
    "            # Apply gradient clipping\n",
    "            torch.nn.utils.clip_grad_norm_(model.parameters(), clip_value)\n",
    "            optimizer.step()\n",
    "            # Perform LR scheduler Work\n",
    "            if scheduler is not None:\n",
    "                scheduler.step()\n",
    "            \n",
    "            train_loss.append(loss.item())\n",
    "        \n",
    "        val_loss = validation(model, val_dataloader, criterion, device)\n",
    "        print(f'Epoch : [{epoch}] Train Loss : [{np.mean(train_loss):.5f}] Val Loss : [{val_loss:.5f}]')\n",
    "        \n",
    "        if best_loss > val_loss:\n",
    "            best_loss = val_loss\n",
    "            best_model = model\n",
    "            print('Model Saved')\n",
    "        \n",
    "        # WandB logging\n",
    "        wandb.log({\n",
    "            \"Epoch\": epoch,\n",
    "            \"Train Loss\": np.mean(train_loss),\n",
    "            \"Validation Loss\": val_loss,\n",
    "        })\n",
    "        \n",
    "    return best_model\n",
    "\n",
    "def validation(model, val_dataloader, criterion, device):\n",
    "    model.eval()\n",
    "    val_loss = []\n",
    "    \n",
    "    with torch.no_grad():\n",
    "        for X, Y in tqdm(iter(val_dataloader)):\n",
    "            X = X.to(device)\n",
    "            Y = Y.to(device)\n",
    "            \n",
    "            output = model(X)\n",
    "            loss = criterion(output, Y)\n",
    "            \n",
    "            val_loss.append(loss.item())\n",
    "    return np.mean(val_loss)"
   ]
  },
  {
   "cell_type": "code",
   "execution_count": 61,
   "metadata": {
    "scrolled": false
   },
   "outputs": [
    {
     "data": {
      "application/vnd.jupyter.widget-view+json": {
       "model_id": "9e50e479f09d4958bc65d9a4d39028e3",
       "version_major": 2,
       "version_minor": 0
      },
      "text/plain": [
       "  0%|          | 0/2192 [00:00<?, ?it/s]"
      ]
     },
     "metadata": {},
     "output_type": "display_data"
    },
    {
     "ename": "RuntimeError",
     "evalue": "The size of tensor a (5) must match the size of tensor b (512) at non-singleton dimension 2",
     "output_type": "error",
     "traceback": [
      "\u001b[1;31m---------------------------------------------------------------------------\u001b[0m",
      "\u001b[1;31mRuntimeError\u001b[0m                              Traceback (most recent call last)",
      "Cell \u001b[1;32mIn[61], line 1\u001b[0m\n\u001b[1;32m----> 1\u001b[0m infer_model \u001b[38;5;241m=\u001b[39m \u001b[43mtrain\u001b[49m\u001b[43m(\u001b[49m\u001b[43mmodel\u001b[49m\u001b[43m,\u001b[49m\u001b[43m \u001b[49m\u001b[43moptimizer\u001b[49m\u001b[43m,\u001b[49m\u001b[43m \u001b[49m\u001b[43mtrain_dataloader\u001b[49m\u001b[43m,\u001b[49m\u001b[43m \u001b[49m\u001b[43mval_dataloader\u001b[49m\u001b[43m,\u001b[49m\u001b[43m \u001b[49m\u001b[43mdevice\u001b[49m\u001b[43m)\u001b[49m\n",
      "Cell \u001b[1;32mIn[45], line 16\u001b[0m, in \u001b[0;36mtrain\u001b[1;34m(model, optimizer, train_dataloader, val_dataloader, device)\u001b[0m\n\u001b[0;32m     13\u001b[0m Y \u001b[38;5;241m=\u001b[39m Y\u001b[38;5;241m.\u001b[39mto(device)\n\u001b[0;32m     14\u001b[0m \u001b[38;5;66;03m# Foward\u001b[39;00m\n\u001b[0;32m     15\u001b[0m \u001b[38;5;66;03m# get prediction\u001b[39;00m\n\u001b[1;32m---> 16\u001b[0m output \u001b[38;5;241m=\u001b[39m \u001b[43mmodel\u001b[49m\u001b[43m(\u001b[49m\u001b[43mX\u001b[49m\u001b[43m)\u001b[49m\n\u001b[0;32m     18\u001b[0m loss \u001b[38;5;241m=\u001b[39m criterion(output, Y)\n\u001b[0;32m     20\u001b[0m \u001b[38;5;66;03m# back propagation\u001b[39;00m\n",
      "File \u001b[1;32m~\\AppData\\Roaming\\Python\\Python310\\site-packages\\torch\\nn\\modules\\module.py:1501\u001b[0m, in \u001b[0;36mModule._call_impl\u001b[1;34m(self, *args, **kwargs)\u001b[0m\n\u001b[0;32m   1496\u001b[0m \u001b[38;5;66;03m# If we don't have any hooks, we want to skip the rest of the logic in\u001b[39;00m\n\u001b[0;32m   1497\u001b[0m \u001b[38;5;66;03m# this function, and just call forward.\u001b[39;00m\n\u001b[0;32m   1498\u001b[0m \u001b[38;5;28;01mif\u001b[39;00m \u001b[38;5;129;01mnot\u001b[39;00m (\u001b[38;5;28mself\u001b[39m\u001b[38;5;241m.\u001b[39m_backward_hooks \u001b[38;5;129;01mor\u001b[39;00m \u001b[38;5;28mself\u001b[39m\u001b[38;5;241m.\u001b[39m_backward_pre_hooks \u001b[38;5;129;01mor\u001b[39;00m \u001b[38;5;28mself\u001b[39m\u001b[38;5;241m.\u001b[39m_forward_hooks \u001b[38;5;129;01mor\u001b[39;00m \u001b[38;5;28mself\u001b[39m\u001b[38;5;241m.\u001b[39m_forward_pre_hooks\n\u001b[0;32m   1499\u001b[0m         \u001b[38;5;129;01mor\u001b[39;00m _global_backward_pre_hooks \u001b[38;5;129;01mor\u001b[39;00m _global_backward_hooks\n\u001b[0;32m   1500\u001b[0m         \u001b[38;5;129;01mor\u001b[39;00m _global_forward_hooks \u001b[38;5;129;01mor\u001b[39;00m _global_forward_pre_hooks):\n\u001b[1;32m-> 1501\u001b[0m     \u001b[38;5;28;01mreturn\u001b[39;00m forward_call(\u001b[38;5;241m*\u001b[39margs, \u001b[38;5;241m*\u001b[39m\u001b[38;5;241m*\u001b[39mkwargs)\n\u001b[0;32m   1502\u001b[0m \u001b[38;5;66;03m# Do not call functions when jit is used\u001b[39;00m\n\u001b[0;32m   1503\u001b[0m full_backward_hooks, non_full_backward_hooks \u001b[38;5;241m=\u001b[39m [], []\n",
      "Cell \u001b[1;32mIn[59], line 74\u001b[0m, in \u001b[0;36mSalesForecastNet.forward\u001b[1;34m(self, x)\u001b[0m\n\u001b[0;32m     71\u001b[0m     padding \u001b[38;5;241m=\u001b[39m torch\u001b[38;5;241m.\u001b[39mzeros(batch_size, max_seq_len \u001b[38;5;241m-\u001b[39m x\u001b[38;5;241m.\u001b[39msize(\u001b[38;5;241m1\u001b[39m), x\u001b[38;5;241m.\u001b[39msize(\u001b[38;5;241m2\u001b[39m), device\u001b[38;5;241m=\u001b[39mx\u001b[38;5;241m.\u001b[39mdevice)\n\u001b[0;32m     72\u001b[0m     x \u001b[38;5;241m=\u001b[39m torch\u001b[38;5;241m.\u001b[39mcat([x, padding], dim\u001b[38;5;241m=\u001b[39m\u001b[38;5;241m1\u001b[39m)\n\u001b[1;32m---> 74\u001b[0m x \u001b[38;5;241m=\u001b[39m \u001b[38;5;28;43mself\u001b[39;49m\u001b[38;5;241;43m.\u001b[39;49m\u001b[43mtransformer\u001b[49m\u001b[43m(\u001b[49m\u001b[43mx\u001b[49m\u001b[43m)\u001b[49m\n\u001b[0;32m     76\u001b[0m last_output \u001b[38;5;241m=\u001b[39m x[:, \u001b[38;5;241m-\u001b[39m\u001b[38;5;241m1\u001b[39m, :]\n\u001b[0;32m     78\u001b[0m output \u001b[38;5;241m=\u001b[39m \u001b[38;5;28mself\u001b[39m\u001b[38;5;241m.\u001b[39mactv(\u001b[38;5;28mself\u001b[39m\u001b[38;5;241m.\u001b[39mfc(last_output))\n",
      "File \u001b[1;32m~\\AppData\\Roaming\\Python\\Python310\\site-packages\\torch\\nn\\modules\\module.py:1501\u001b[0m, in \u001b[0;36mModule._call_impl\u001b[1;34m(self, *args, **kwargs)\u001b[0m\n\u001b[0;32m   1496\u001b[0m \u001b[38;5;66;03m# If we don't have any hooks, we want to skip the rest of the logic in\u001b[39;00m\n\u001b[0;32m   1497\u001b[0m \u001b[38;5;66;03m# this function, and just call forward.\u001b[39;00m\n\u001b[0;32m   1498\u001b[0m \u001b[38;5;28;01mif\u001b[39;00m \u001b[38;5;129;01mnot\u001b[39;00m (\u001b[38;5;28mself\u001b[39m\u001b[38;5;241m.\u001b[39m_backward_hooks \u001b[38;5;129;01mor\u001b[39;00m \u001b[38;5;28mself\u001b[39m\u001b[38;5;241m.\u001b[39m_backward_pre_hooks \u001b[38;5;129;01mor\u001b[39;00m \u001b[38;5;28mself\u001b[39m\u001b[38;5;241m.\u001b[39m_forward_hooks \u001b[38;5;129;01mor\u001b[39;00m \u001b[38;5;28mself\u001b[39m\u001b[38;5;241m.\u001b[39m_forward_pre_hooks\n\u001b[0;32m   1499\u001b[0m         \u001b[38;5;129;01mor\u001b[39;00m _global_backward_pre_hooks \u001b[38;5;129;01mor\u001b[39;00m _global_backward_hooks\n\u001b[0;32m   1500\u001b[0m         \u001b[38;5;129;01mor\u001b[39;00m _global_forward_hooks \u001b[38;5;129;01mor\u001b[39;00m _global_forward_pre_hooks):\n\u001b[1;32m-> 1501\u001b[0m     \u001b[38;5;28;01mreturn\u001b[39;00m forward_call(\u001b[38;5;241m*\u001b[39margs, \u001b[38;5;241m*\u001b[39m\u001b[38;5;241m*\u001b[39mkwargs)\n\u001b[0;32m   1502\u001b[0m \u001b[38;5;66;03m# Do not call functions when jit is used\u001b[39;00m\n\u001b[0;32m   1503\u001b[0m full_backward_hooks, non_full_backward_hooks \u001b[38;5;241m=\u001b[39m [], []\n",
      "Cell \u001b[1;32mIn[59], line 40\u001b[0m, in \u001b[0;36mTransformerLayer.forward\u001b[1;34m(self, x)\u001b[0m\n\u001b[0;32m     36\u001b[0m \u001b[38;5;28;01mdef\u001b[39;00m \u001b[38;5;21mforward\u001b[39m(\u001b[38;5;28mself\u001b[39m, x):\n\u001b[0;32m     37\u001b[0m     \u001b[38;5;66;03m# x shape: (B, seq_len, hidden_size)\u001b[39;00m\n\u001b[0;32m     38\u001b[0m \n\u001b[0;32m     39\u001b[0m     \u001b[38;5;66;03m# Add positional encoding\u001b[39;00m\n\u001b[1;32m---> 40\u001b[0m     x \u001b[38;5;241m=\u001b[39m \u001b[38;5;28;43mself\u001b[39;49m\u001b[38;5;241;43m.\u001b[39;49m\u001b[43mpositional_encoding\u001b[49m\u001b[43m(\u001b[49m\u001b[43mx\u001b[49m\u001b[43m)\u001b[49m\n\u001b[0;32m     42\u001b[0m     attn_output, _ \u001b[38;5;241m=\u001b[39m \u001b[38;5;28mself\u001b[39m\u001b[38;5;241m.\u001b[39mattention(x, x, x)\n\u001b[0;32m     43\u001b[0m     x \u001b[38;5;241m=\u001b[39m x \u001b[38;5;241m+\u001b[39m \u001b[38;5;28mself\u001b[39m\u001b[38;5;241m.\u001b[39mdropout(attn_output)\n",
      "File \u001b[1;32m~\\AppData\\Roaming\\Python\\Python310\\site-packages\\torch\\nn\\modules\\module.py:1501\u001b[0m, in \u001b[0;36mModule._call_impl\u001b[1;34m(self, *args, **kwargs)\u001b[0m\n\u001b[0;32m   1496\u001b[0m \u001b[38;5;66;03m# If we don't have any hooks, we want to skip the rest of the logic in\u001b[39;00m\n\u001b[0;32m   1497\u001b[0m \u001b[38;5;66;03m# this function, and just call forward.\u001b[39;00m\n\u001b[0;32m   1498\u001b[0m \u001b[38;5;28;01mif\u001b[39;00m \u001b[38;5;129;01mnot\u001b[39;00m (\u001b[38;5;28mself\u001b[39m\u001b[38;5;241m.\u001b[39m_backward_hooks \u001b[38;5;129;01mor\u001b[39;00m \u001b[38;5;28mself\u001b[39m\u001b[38;5;241m.\u001b[39m_backward_pre_hooks \u001b[38;5;129;01mor\u001b[39;00m \u001b[38;5;28mself\u001b[39m\u001b[38;5;241m.\u001b[39m_forward_hooks \u001b[38;5;129;01mor\u001b[39;00m \u001b[38;5;28mself\u001b[39m\u001b[38;5;241m.\u001b[39m_forward_pre_hooks\n\u001b[0;32m   1499\u001b[0m         \u001b[38;5;129;01mor\u001b[39;00m _global_backward_pre_hooks \u001b[38;5;129;01mor\u001b[39;00m _global_backward_hooks\n\u001b[0;32m   1500\u001b[0m         \u001b[38;5;129;01mor\u001b[39;00m _global_forward_hooks \u001b[38;5;129;01mor\u001b[39;00m _global_forward_pre_hooks):\n\u001b[1;32m-> 1501\u001b[0m     \u001b[38;5;28;01mreturn\u001b[39;00m forward_call(\u001b[38;5;241m*\u001b[39margs, \u001b[38;5;241m*\u001b[39m\u001b[38;5;241m*\u001b[39mkwargs)\n\u001b[0;32m   1502\u001b[0m \u001b[38;5;66;03m# Do not call functions when jit is used\u001b[39;00m\n\u001b[0;32m   1503\u001b[0m full_backward_hooks, non_full_backward_hooks \u001b[38;5;241m=\u001b[39m [], []\n",
      "Cell \u001b[1;32mIn[59], line 20\u001b[0m, in \u001b[0;36mPositionalEncoding.forward\u001b[1;34m(self, x)\u001b[0m\n\u001b[0;32m     18\u001b[0m batch_size, seq_len, d_model \u001b[38;5;241m=\u001b[39m x\u001b[38;5;241m.\u001b[39msize()\n\u001b[0;32m     19\u001b[0m encoding \u001b[38;5;241m=\u001b[39m \u001b[38;5;28mself\u001b[39m\u001b[38;5;241m.\u001b[39mencoding[:, :seq_len]\u001b[38;5;241m.\u001b[39mto(x\u001b[38;5;241m.\u001b[39mdevice)\n\u001b[1;32m---> 20\u001b[0m x \u001b[38;5;241m=\u001b[39m \u001b[43mx\u001b[49m\u001b[43m \u001b[49m\u001b[38;5;241;43m+\u001b[39;49m\u001b[43m \u001b[49m\u001b[43mencoding\u001b[49m\n\u001b[0;32m     21\u001b[0m \u001b[38;5;28;01mreturn\u001b[39;00m x\n",
      "\u001b[1;31mRuntimeError\u001b[0m: The size of tensor a (5) must match the size of tensor b (512) at non-singleton dimension 2"
     ]
    }
   ],
   "source": [
    "infer_model = train(model, optimizer, train_dataloader, val_dataloader, device)"
   ]
  },
  {
   "cell_type": "code",
   "execution_count": 28,
   "metadata": {},
   "outputs": [],
   "source": [
    "test_dataset = CustomDataset(test_input, None)\n",
    "test_loader = DataLoader(test_dataset, batch_size = cfg['BATCH_SIZE'], shuffle=False, num_workers=cfg[\"NUM_WORKERS\"])"
   ]
  },
  {
   "cell_type": "code",
   "execution_count": 29,
   "metadata": {},
   "outputs": [],
   "source": [
    "def inference(model, test_loader, device):\n",
    "    predictions = []\n",
    "    \n",
    "    with torch.no_grad():\n",
    "        for X in tqdm(iter(test_loader)):\n",
    "            X = X.to(device)\n",
    "            \n",
    "            output = model(X)\n",
    "            \n",
    "            output = output.cpu().numpy()\n",
    "            \n",
    "            predictions.extend(output)\n",
    "    \n",
    "    return np.array(predictions)"
   ]
  },
  {
   "cell_type": "code",
   "execution_count": 30,
   "metadata": {},
   "outputs": [
    {
     "data": {
      "application/vnd.jupyter.widget-view+json": {
       "model_id": "c611645094be4619945f767d183c2e7c",
       "version_major": 2,
       "version_minor": 0
      },
      "text/plain": [
       "  0%|          | 0/8 [00:00<?, ?it/s]"
      ]
     },
     "metadata": {},
     "output_type": "display_data"
    }
   ],
   "source": [
    "pred = inference(infer_model, test_loader, device)"
   ]
  },
  {
   "cell_type": "markdown",
   "metadata": {},
   "source": [
    "# Submission"
   ]
  },
  {
   "cell_type": "code",
   "execution_count": 31,
   "metadata": {},
   "outputs": [
    {
     "data": {
      "text/html": [
       "<div>\n",
       "<style scoped>\n",
       "    .dataframe tbody tr th:only-of-type {\n",
       "        vertical-align: middle;\n",
       "    }\n",
       "\n",
       "    .dataframe tbody tr th {\n",
       "        vertical-align: top;\n",
       "    }\n",
       "\n",
       "    .dataframe thead th {\n",
       "        text-align: right;\n",
       "    }\n",
       "</style>\n",
       "<table border=\"1\" class=\"dataframe\">\n",
       "  <thead>\n",
       "    <tr style=\"text-align: right;\">\n",
       "      <th></th>\n",
       "      <th>ID</th>\n",
       "      <th>2023-04-05</th>\n",
       "      <th>2023-04-06</th>\n",
       "      <th>2023-04-07</th>\n",
       "      <th>2023-04-08</th>\n",
       "      <th>2023-04-09</th>\n",
       "      <th>2023-04-10</th>\n",
       "      <th>2023-04-11</th>\n",
       "      <th>2023-04-12</th>\n",
       "      <th>2023-04-13</th>\n",
       "      <th>...</th>\n",
       "      <th>2023-04-16</th>\n",
       "      <th>2023-04-17</th>\n",
       "      <th>2023-04-18</th>\n",
       "      <th>2023-04-19</th>\n",
       "      <th>2023-04-20</th>\n",
       "      <th>2023-04-21</th>\n",
       "      <th>2023-04-22</th>\n",
       "      <th>2023-04-23</th>\n",
       "      <th>2023-04-24</th>\n",
       "      <th>2023-04-25</th>\n",
       "    </tr>\n",
       "  </thead>\n",
       "  <tbody>\n",
       "    <tr>\n",
       "      <th>0</th>\n",
       "      <td>0</td>\n",
       "      <td>0.00000</td>\n",
       "      <td>0.000000</td>\n",
       "      <td>0.000000</td>\n",
       "      <td>0.000000</td>\n",
       "      <td>0.002025</td>\n",
       "      <td>0.002418</td>\n",
       "      <td>0.002897</td>\n",
       "      <td>0.007942</td>\n",
       "      <td>0.009496</td>\n",
       "      <td>...</td>\n",
       "      <td>0.010155</td>\n",
       "      <td>0.011174</td>\n",
       "      <td>0.011677</td>\n",
       "      <td>0.013830</td>\n",
       "      <td>0.014613</td>\n",
       "      <td>0.014759</td>\n",
       "      <td>0.018046</td>\n",
       "      <td>0.017790</td>\n",
       "      <td>0.020457</td>\n",
       "      <td>0.022615</td>\n",
       "    </tr>\n",
       "    <tr>\n",
       "      <th>1</th>\n",
       "      <td>1</td>\n",
       "      <td>0.06171</td>\n",
       "      <td>0.066687</td>\n",
       "      <td>0.074364</td>\n",
       "      <td>0.075773</td>\n",
       "      <td>0.073640</td>\n",
       "      <td>0.072372</td>\n",
       "      <td>0.070945</td>\n",
       "      <td>0.071412</td>\n",
       "      <td>0.073564</td>\n",
       "      <td>...</td>\n",
       "      <td>0.073324</td>\n",
       "      <td>0.072140</td>\n",
       "      <td>0.070894</td>\n",
       "      <td>0.072001</td>\n",
       "      <td>0.074156</td>\n",
       "      <td>0.074091</td>\n",
       "      <td>0.073970</td>\n",
       "      <td>0.071657</td>\n",
       "      <td>0.071515</td>\n",
       "      <td>0.072803</td>\n",
       "    </tr>\n",
       "    <tr>\n",
       "      <th>2</th>\n",
       "      <td>2</td>\n",
       "      <td>0.00000</td>\n",
       "      <td>0.000000</td>\n",
       "      <td>0.000000</td>\n",
       "      <td>0.000000</td>\n",
       "      <td>0.002356</td>\n",
       "      <td>0.002863</td>\n",
       "      <td>0.003147</td>\n",
       "      <td>0.008268</td>\n",
       "      <td>0.009726</td>\n",
       "      <td>...</td>\n",
       "      <td>0.010430</td>\n",
       "      <td>0.011593</td>\n",
       "      <td>0.012040</td>\n",
       "      <td>0.014246</td>\n",
       "      <td>0.014894</td>\n",
       "      <td>0.014944</td>\n",
       "      <td>0.018153</td>\n",
       "      <td>0.017871</td>\n",
       "      <td>0.020594</td>\n",
       "      <td>0.022830</td>\n",
       "    </tr>\n",
       "    <tr>\n",
       "      <th>3</th>\n",
       "      <td>3</td>\n",
       "      <td>0.00000</td>\n",
       "      <td>0.000000</td>\n",
       "      <td>0.000000</td>\n",
       "      <td>0.000000</td>\n",
       "      <td>0.002355</td>\n",
       "      <td>0.002862</td>\n",
       "      <td>0.003145</td>\n",
       "      <td>0.008267</td>\n",
       "      <td>0.009725</td>\n",
       "      <td>...</td>\n",
       "      <td>0.010428</td>\n",
       "      <td>0.011592</td>\n",
       "      <td>0.012039</td>\n",
       "      <td>0.014245</td>\n",
       "      <td>0.014893</td>\n",
       "      <td>0.014943</td>\n",
       "      <td>0.018152</td>\n",
       "      <td>0.017870</td>\n",
       "      <td>0.020593</td>\n",
       "      <td>0.022830</td>\n",
       "    </tr>\n",
       "    <tr>\n",
       "      <th>4</th>\n",
       "      <td>4</td>\n",
       "      <td>0.00000</td>\n",
       "      <td>0.000000</td>\n",
       "      <td>0.000000</td>\n",
       "      <td>0.000000</td>\n",
       "      <td>0.000000</td>\n",
       "      <td>0.000000</td>\n",
       "      <td>0.000000</td>\n",
       "      <td>0.000000</td>\n",
       "      <td>0.000000</td>\n",
       "      <td>...</td>\n",
       "      <td>0.000000</td>\n",
       "      <td>0.000000</td>\n",
       "      <td>0.000000</td>\n",
       "      <td>0.000000</td>\n",
       "      <td>0.000000</td>\n",
       "      <td>0.000394</td>\n",
       "      <td>0.001176</td>\n",
       "      <td>0.004528</td>\n",
       "      <td>0.006145</td>\n",
       "      <td>0.008072</td>\n",
       "    </tr>\n",
       "  </tbody>\n",
       "</table>\n",
       "<p>5 rows × 22 columns</p>\n",
       "</div>"
      ],
      "text/plain": [
       "   ID  2023-04-05  2023-04-06  2023-04-07  2023-04-08  2023-04-09  2023-04-10  \\\n",
       "0   0     0.00000    0.000000    0.000000    0.000000    0.002025    0.002418   \n",
       "1   1     0.06171    0.066687    0.074364    0.075773    0.073640    0.072372   \n",
       "2   2     0.00000    0.000000    0.000000    0.000000    0.002356    0.002863   \n",
       "3   3     0.00000    0.000000    0.000000    0.000000    0.002355    0.002862   \n",
       "4   4     0.00000    0.000000    0.000000    0.000000    0.000000    0.000000   \n",
       "\n",
       "   2023-04-11  2023-04-12  2023-04-13  ...  2023-04-16  2023-04-17  \\\n",
       "0    0.002897    0.007942    0.009496  ...    0.010155    0.011174   \n",
       "1    0.070945    0.071412    0.073564  ...    0.073324    0.072140   \n",
       "2    0.003147    0.008268    0.009726  ...    0.010430    0.011593   \n",
       "3    0.003145    0.008267    0.009725  ...    0.010428    0.011592   \n",
       "4    0.000000    0.000000    0.000000  ...    0.000000    0.000000   \n",
       "\n",
       "   2023-04-18  2023-04-19  2023-04-20  2023-04-21  2023-04-22  2023-04-23  \\\n",
       "0    0.011677    0.013830    0.014613    0.014759    0.018046    0.017790   \n",
       "1    0.070894    0.072001    0.074156    0.074091    0.073970    0.071657   \n",
       "2    0.012040    0.014246    0.014894    0.014944    0.018153    0.017871   \n",
       "3    0.012039    0.014245    0.014893    0.014943    0.018152    0.017870   \n",
       "4    0.000000    0.000000    0.000000    0.000394    0.001176    0.004528   \n",
       "\n",
       "   2023-04-24  2023-04-25  \n",
       "0    0.020457    0.022615  \n",
       "1    0.071515    0.072803  \n",
       "2    0.020594    0.022830  \n",
       "3    0.020593    0.022830  \n",
       "4    0.006145    0.008072  \n",
       "\n",
       "[5 rows x 22 columns]"
      ]
     },
     "execution_count": 31,
     "metadata": {},
     "output_type": "execute_result"
    }
   ],
   "source": [
    "submit = pd.read_csv(data_root + \"/sample_submission.csv\")\n",
    "submit.iloc[:,1:] = pred\n",
    "submit.head()"
   ]
  },
  {
   "cell_type": "code",
   "execution_count": 32,
   "metadata": {},
   "outputs": [],
   "source": [
    "submit.to_csv('./baseline_submit.csv', index=False)"
   ]
  },
  {
   "cell_type": "code",
   "execution_count": null,
   "metadata": {},
   "outputs": [],
   "source": []
  }
 ],
 "metadata": {
  "kernelspec": {
   "display_name": "Python 3 (ipykernel)",
   "language": "python",
   "name": "python3"
  },
  "language_info": {
   "codemirror_mode": {
    "name": "ipython",
    "version": 3
   },
   "file_extension": ".py",
   "mimetype": "text/x-python",
   "name": "python",
   "nbconvert_exporter": "python",
   "pygments_lexer": "ipython3",
   "version": "3.8.5"
  }
 },
 "nbformat": 4,
 "nbformat_minor": 2
}
